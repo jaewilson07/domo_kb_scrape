{
 "cells": [
  {
   "cell_type": "code",
   "execution_count": 1,
   "metadata": {},
   "outputs": [],
   "source": [
    "BASE_FOLDER = '../../raw_domo_kb'\n"
   ]
  },
  {
   "cell_type": "code",
   "execution_count": 2,
   "metadata": {},
   "outputs": [
    {
     "data": {
      "text/plain": [
       "['../../raw_domo_kb/category/0TO5w000000ZandGAC/process.json',\n",
       " '../../raw_domo_kb/category/0TO5w000000ZapJGAS/process.json',\n",
       " '../../raw_domo_kb/category/0TO5w000000ZaoCGAS/process.json',\n",
       " '../../raw_domo_kb/category/0TO5w000000Zan0GAC/process.json',\n",
       " '../../raw_domo_kb/category/0TO5w000000ZanCGAS/process.json']"
      ]
     },
     "execution_count": 2,
     "metadata": {},
     "output_type": "execute_result"
    }
   ],
   "source": [
    "import os\n",
    "from os import listdir\n",
    "from os.path import isfile, join\n",
    "\n",
    "\n",
    "def crawl_directory(folder_path):\n",
    "  res = []\n",
    "  for r, d, f in os.walk(folder_path):\n",
    "    for file in f:\n",
    "        if file == \"process.json\":\n",
    "            res.append(os.path.join(r, file))\n",
    "  return res\n",
    "\n",
    "\n",
    "category_ls = crawl_directory(os.path.join(BASE_FOLDER, 'category'))\n",
    "category_ls[0:5]"
   ]
  },
  {
   "attachments": {},
   "cell_type": "markdown",
   "metadata": {},
   "source": [
    "what is the longest breadcrumb?"
   ]
  },
  {
   "cell_type": "code",
   "execution_count": 3,
   "metadata": {},
   "outputs": [],
   "source": [
    "import json\n",
    "\n",
    "category_objs = []\n",
    "for file_path in category_ls:\n",
    "    with open(file_path , 'r' , encoding='utf-8' ) as f:\n",
    "        category_objs.append(json.loads(f.read()))\n",
    "        "
   ]
  },
  {
   "cell_type": "code",
   "execution_count": 4,
   "metadata": {},
   "outputs": [],
   "source": [
    "category_objs[0:5]\n",
    "\n",
    "test_category = category_objs[0]\n",
    "\n",
    "top_category = []\n",
    "max_breadcrumb = None\n",
    "for category in category_objs:\n",
    "    if not max_breadcrumb or len(category['breadcrumbs']) > len(max_breadcrumb['breadcrumbs']):\n",
    "        max_breadcrumb = category\n",
    "    if len(category['breadcrumbs']) == 2:\n",
    "        top_category.append(category)\n",
    "        "
   ]
  },
  {
   "cell_type": "code",
   "execution_count": 5,
   "metadata": {},
   "outputs": [
    {
     "data": {
      "text/plain": [
       "{'file_path': '../../raw_domo_kb/category/0TO5w000000Zan0GAC/index.html',\n",
       " 'content': {'section-list': [{'text': 'data_literacy',\n",
       "    'url': '/s/topic/0TO5w000000ZanSGAS'}]},\n",
       " 'title': 'Understanding Data',\n",
       " 'title_clean': 'understanding_data',\n",
       " 'description': None,\n",
       " 'breadcrumbs': [{'text': 'domo', 'url': '/s/knowledge-base/'},\n",
       "  {'text': 'understanding_data', 'url': None}]}"
      ]
     },
     "execution_count": 5,
     "metadata": {},
     "output_type": "execute_result"
    }
   ],
   "source": [
    "top_category[0]"
   ]
  },
  {
   "cell_type": "code",
   "execution_count": 6,
   "metadata": {},
   "outputs": [
    {
     "name": "stdout",
     "output_type": "stream",
     "text": [
      "Understanding Data\n",
      "Connecting Data To Domo\n",
      "Distributing Domo Content\n",
      "Administrating Domo\n",
      "Using Domo APIs\n",
      "Creating Content In Domo\n",
      "Release Notes\n",
      "Getting To Know Domo\n",
      "Creating Custom Visualizations\n",
      "Transforming Data In Domo\n",
      "Working With DataSets In Domo\n",
      "Training\n",
      "Consuming Data In Domo\n"
     ]
    }
   ],
   "source": [
    "for category in top_category:\n",
    "    print(category['title'])\n"
   ]
  }
 ],
 "metadata": {
  "kernelspec": {
   "display_name": "Python 3",
   "language": "python",
   "name": "python3"
  },
  "language_info": {
   "codemirror_mode": {
    "name": "ipython",
    "version": 3
   },
   "file_extension": ".py",
   "mimetype": "text/x-python",
   "name": "python",
   "nbconvert_exporter": "python",
   "pygments_lexer": "ipython3",
   "version": "3.10.4"
  },
  "orig_nbformat": 4
 },
 "nbformat": 4,
 "nbformat_minor": 2
}
