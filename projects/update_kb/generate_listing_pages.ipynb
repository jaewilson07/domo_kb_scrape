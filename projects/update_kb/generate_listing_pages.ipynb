{
 "cells": [
  {
   "cell_type": "code",
   "execution_count": 10,
   "metadata": {},
   "outputs": [],
   "source": [
    "BASE_FOLDER = '../../raw_domo_kb'\n",
    "OUTPUT_FOLDER  ='../../nbs/knowledge_base/'\n"
   ]
  },
  {
   "cell_type": "code",
   "execution_count": 11,
   "metadata": {},
   "outputs": [],
   "source": [
    "# !pip install pyyaml"
   ]
  },
  {
   "cell_type": "code",
   "execution_count": 12,
   "metadata": {},
   "outputs": [
    {
     "data": {
      "text/plain": [
       "['../../raw_domo_kb\\\\category\\\\0TO5w000000ZamlGAC\\\\process.json',\n",
       " '../../raw_domo_kb\\\\category\\\\0TO5w000000ZammGAC\\\\process.json',\n",
       " '../../raw_domo_kb\\\\category\\\\0TO5w000000ZamnGAC\\\\process.json',\n",
       " '../../raw_domo_kb\\\\category\\\\0TO5w000000ZamoGAC\\\\process.json',\n",
       " '../../raw_domo_kb\\\\category\\\\0TO5w000000ZampGAC\\\\process.json']"
      ]
     },
     "execution_count": 12,
     "metadata": {},
     "output_type": "execute_result"
    }
   ],
   "source": [
    "import os\n",
    "from os import listdir\n",
    "from os.path import isfile, join\n",
    "\n",
    "\n",
    "def crawl_directory(folder_path):\n",
    "  res = []\n",
    "  for r, d, f in os.walk(folder_path):\n",
    "    for file in f:\n",
    "        if file == \"process.json\":\n",
    "            res.append(os.path.join(r, file))\n",
    "  return res\n",
    "\n",
    "\n",
    "category_ls = crawl_directory(os.path.join(BASE_FOLDER, 'category'))\n",
    "category_ls[0:5]"
   ]
  },
  {
   "attachments": {},
   "cell_type": "markdown",
   "metadata": {},
   "source": [
    "what is the longest breadcrumb?"
   ]
  },
  {
   "cell_type": "code",
   "execution_count": 13,
   "metadata": {},
   "outputs": [],
   "source": [
    "import json\n",
    "\n",
    "category_objs = []\n",
    "for file_path in category_ls:\n",
    "    with open(file_path , 'r' , encoding='utf-8' ) as f:\n",
    "        category_objs.append(json.loads(f.read()))\n",
    "        "
   ]
  },
  {
   "cell_type": "code",
   "execution_count": 14,
   "metadata": {},
   "outputs": [],
   "source": [
    "# category_objs[0:5]\n",
    "\n",
    "# test_category = category_objs[0]\n",
    "\n",
    "# top_category = []\n",
    "# max_breadcrumb = None\n",
    "# for category in category_objs:\n",
    "#     if not max_breadcrumb or len(category['breadcrumbs']) > len(max_breadcrumb['breadcrumbs']):\n",
    "#         max_breadcrumb = category\n",
    "#     if len(category['breadcrumbs']) == 2:\n",
    "#         top_category.append(category)\n",
    "        \n",
    "# top_category[0]"
   ]
  },
  {
   "cell_type": "code",
   "execution_count": 15,
   "metadata": {},
   "outputs": [],
   "source": [
    "import shutil\n",
    "\n",
    "def reset_folder(folder_path):\n",
    "      for r, d, f in os.walk(folder_path):\n",
    "        for file_name in f:\n",
    "            file_path = os.path.join(r, file_name) \n",
    "            os.remove(file_path)\n",
    "        \n",
    "        for directory in d:\n",
    "            folder_path = os.path.join(r, directory) \n",
    "            shutil.rmtree(folder_path)\n",
    "        \n",
    "\n",
    "reset_folder('../../nbs/knowledge_base/')\n"
   ]
  },
  {
   "cell_type": "code",
   "execution_count": 16,
   "metadata": {},
   "outputs": [],
   "source": [
    "def create_folder(folder_path):\n",
    "    if os.path.exists(folder_path):\n",
    "        return\n",
    "\n",
    "    os.mkdir(folder_path)\n",
    "\n",
    "\n",
    "def create_category(category_obj, base_output_folder, posts_folder=\"posts\"):\n",
    "\n",
    "    output_folder = os.path.join(\n",
    "        base_output_folder, category_obj['title_clean'])\n",
    "    create_folder(output_folder)\n",
    "\n",
    "    create_folder(os.path.join(output_folder, posts_folder))\n",
    "\n",
    "    with open('template_listing.txt', 'r', encoding='utf-8') as f:\n",
    "        listing_template = f.read()\n",
    "\n",
    "    listing_title = category_obj['title']\n",
    "\n",
    "    listing_template = listing_template.replace(\n",
    "        \"<<TITLE>>\", listing_title).replace('<<FOLDER>>', f'\"{posts_folder}\"')\n",
    "    listing_template = listing_template.replace(\n",
    "        \"<<SUBTITLE>>\", category_obj['description']) if category_obj['description'] else listing_template.replace('subtitle: <<SUBTITLE>>', '')\n",
    "\n",
    "    listing_path = os.path.join(output_folder, 'index.qmd')\n",
    "\n",
    "    with open(listing_path, 'w', encoding='utf-8') as f:\n",
    "        f.write(listing_template)\n",
    "\n",
    "    return {\"section\": listing_title,\n",
    "            'contents': [listing_path.replace('\\\\', '/').split('/nbs/')[1]]}\n",
    "\n",
    "   \n",
    "add_to_yaml = [create_category(\n",
    "    category_obj, base_output_folder=OUTPUT_FOLDER) for category_obj in category_objs if len(category_obj['breadcrumbs']) == 2]\n"
   ]
  },
  {
   "cell_type": "code",
   "execution_count": 17,
   "metadata": {},
   "outputs": [
    {
     "data": {
      "text/plain": [
       "[{'section': 'Administrating Domo',\n",
       "  'href': 'knowledge_base/administrating_domo/index.qmd'},\n",
       " {'section': 'Connecting Data To Domo',\n",
       "  'href': 'knowledge_base/connecting_data_to_domo/index.qmd'},\n",
       " {'section': 'Consuming Data In Domo',\n",
       "  'href': 'knowledge_base/consuming_data_in_domo/index.qmd'},\n",
       " {'section': 'Creating Content In Domo',\n",
       "  'href': 'knowledge_base/creating_content_in_domo/index.qmd'},\n",
       " {'section': 'Creating Custom Visualizations',\n",
       "  'href': 'knowledge_base/creating_custom_visualizations/index.qmd'},\n",
       " {'section': 'Distributing Domo Content',\n",
       "  'href': 'knowledge_base/distributing_domo_content/index.qmd'},\n",
       " {'section': 'Getting To Know Domo',\n",
       "  'href': 'knowledge_base/getting_to_know_domo/index.qmd'},\n",
       " {'section': 'Release Notes',\n",
       "  'href': 'knowledge_base/release_notes/index.qmd'},\n",
       " {'section': 'Training', 'href': 'knowledge_base/training/index.qmd'},\n",
       " {'section': 'Transforming Data In Domo',\n",
       "  'href': 'knowledge_base/transforming_data_in_domo/index.qmd'},\n",
       " {'section': 'Understanding Data',\n",
       "  'href': 'knowledge_base/understanding_data/index.qmd'},\n",
       " {'section': 'Using Domo APIs',\n",
       "  'href': 'knowledge_base/using_domo_apis/index.qmd'},\n",
       " {'section': 'Working With DataSets In Domo',\n",
       "  'href': 'knowledge_base/working_with_datasets_in_domo/index.qmd'}]"
      ]
     },
     "execution_count": 17,
     "metadata": {},
     "output_type": "execute_result"
    }
   ],
   "source": [
    "add_to_yaml"
   ]
  },
  {
   "cell_type": "code",
   "execution_count": 18,
   "metadata": {},
   "outputs": [
    {
     "name": "stdout",
     "output_type": "stream",
     "text": [
      "{'format': {'html': {'css': 'styles.css', 'theme': 'cosmo', 'toc': True}},\n",
      " 'metadata-files': ['nbdev.yml'],\n",
      " 'project': {'type': 'website'},\n",
      " 'website': {'navbar': {'background': 'primary', 'search': True},\n",
      "             'open-graph': True,\n",
      "             'repo-actions': ['issue'],\n",
      "             'sidebar': {'contents': [{'auto': 'index.ipynb'},\n",
      "                                      {'contents': 'knowledge_base/administrating_domo/index.qmd',\n",
      "                                       'section': 'Administrating Domo'},\n",
      "                                      {'contents': 'knowledge_base/connecting_data_to_domo/index.qmd',\n",
      "                                       'section': 'Connecting Data To Domo'},\n",
      "                                      {'contents': 'knowledge_base/consuming_data_in_domo/index.qmd',\n",
      "                                       'section': 'Consuming Data In Domo'},\n",
      "                                      {'contents': 'knowledge_base/creating_content_in_domo/index.qmd',\n",
      "                                       'section': 'Creating Content In Domo'},\n",
      "                                      {'contents': 'knowledge_base/creating_custom_visualizations/index.qmd',\n",
      "                                       'section': 'Creating Custom '\n",
      "                                                  'Visualizations'},\n",
      "                                      {'contents': 'knowledge_base/distributing_domo_content/index.qmd',\n",
      "                                       'section': 'Distributing Domo Content'},\n",
      "                                      {'contents': 'knowledge_base/getting_to_know_domo/index.qmd',\n",
      "                                       'section': 'Getting To Know Domo'},\n",
      "                                      {'contents': 'knowledge_base/release_notes/index.qmd',\n",
      "                                       'section': 'Release Notes'},\n",
      "                                      {'contents': 'knowledge_base/training/index.qmd',\n",
      "                                       'section': 'Training'},\n",
      "                                      {'contents': 'knowledge_base/transforming_data_in_domo/index.qmd',\n",
      "                                       'section': 'Transforming Data In Domo'},\n",
      "                                      {'contents': 'knowledge_base/understanding_data/index.qmd',\n",
      "                                       'section': 'Understanding Data'},\n",
      "                                      {'contents': 'knowledge_base/using_domo_apis/index.qmd',\n",
      "                                       'section': 'Using Domo APIs'},\n",
      "                                      {'contents': 'knowledge_base/working_with_datasets_in_domo/index.qmd',\n",
      "                                       'section': 'Working With DataSets In '\n",
      "                                                  'Domo'}],\n",
      "                         'style': 'floating'},\n",
      "             'twitter-card': True}}\n"
     ]
    },
    {
     "data": {
      "text/plain": [
       "{'format': {'html': {'css': 'styles.css', 'theme': 'cosmo', 'toc': True}},\n",
       " 'metadata-files': ['nbdev.yml'],\n",
       " 'project': {'type': 'website'},\n",
       " 'website': {'navbar': {'background': 'primary', 'search': True},\n",
       "  'open-graph': True,\n",
       "  'repo-actions': ['issue'],\n",
       "  'sidebar': {'contents': [{'auto': 'index.ipynb'},\n",
       "    {'section': 'Administrating Domo',\n",
       "     'href': 'knowledge_base/administrating_domo/index.qmd'},\n",
       "    {'section': 'Connecting Data To Domo',\n",
       "     'href': 'knowledge_base/connecting_data_to_domo/index.qmd'},\n",
       "    {'section': 'Consuming Data In Domo',\n",
       "     'href': 'knowledge_base/consuming_data_in_domo/index.qmd'},\n",
       "    {'section': 'Creating Content In Domo',\n",
       "     'href': 'knowledge_base/creating_content_in_domo/index.qmd'},\n",
       "    {'section': 'Creating Custom Visualizations',\n",
       "     'href': 'knowledge_base/creating_custom_visualizations/index.qmd'},\n",
       "    {'section': 'Distributing Domo Content',\n",
       "     'href': 'knowledge_base/distributing_domo_content/index.qmd'},\n",
       "    {'section': 'Getting To Know Domo',\n",
       "     'href': 'knowledge_base/getting_to_know_domo/index.qmd'},\n",
       "    {'section': 'Release Notes',\n",
       "     'href': 'knowledge_base/release_notes/index.qmd'},\n",
       "    {'section': 'Training', 'href': 'knowledge_base/training/index.qmd'},\n",
       "    {'section': 'Transforming Data In Domo',\n",
       "     'href': 'knowledge_base/transforming_data_in_domo/index.qmd'},\n",
       "    {'section': 'Understanding Data',\n",
       "     'href': 'knowledge_base/understanding_data/index.qmd'},\n",
       "    {'section': 'Using Domo APIs',\n",
       "     'href': 'knowledge_base/using_domo_apis/index.qmd'},\n",
       "    {'section': 'Working With DataSets In Domo',\n",
       "     'href': 'knowledge_base/working_with_datasets_in_domo/index.qmd'}],\n",
       "   'style': 'floating'},\n",
       "  'twitter-card': True}}"
      ]
     },
     "execution_count": 18,
     "metadata": {},
     "output_type": "execute_result"
    }
   ],
   "source": [
    "import yaml\n",
    "\n",
    "\n",
    "def update_yaml():\n",
    "    yaml_path = '../../nbs/_quarto.yml'\n",
    "\n",
    "    with open(yaml_path, 'r') as f:\n",
    "        quarto_yaml = yaml.safe_load(f)\n",
    "\n",
    "    from pprint import pprint\n",
    "    pprint(quarto_yaml)\n",
    "\n",
    "    quarto_yaml['website']['sidebar'].update({'contents': [\n",
    "        {'auto': \"index.ipynb\"},\n",
    "        * add_to_yaml\n",
    "    ]})\n",
    "\n",
    "    with open(yaml_path, 'w') as f:\n",
    "        yaml.dump(quarto_yaml, f)\n",
    "        \n",
    "    return quarto_yaml\n",
    "\n",
    "\n",
    "update_yaml()\n"
   ]
  }
 ],
 "metadata": {
  "kernelspec": {
   "display_name": "Python 3",
   "language": "python",
   "name": "python3"
  },
  "language_info": {
   "codemirror_mode": {
    "name": "ipython",
    "version": 3
   },
   "file_extension": ".py",
   "mimetype": "text/x-python",
   "name": "python",
   "nbconvert_exporter": "python",
   "pygments_lexer": "ipython3",
   "version": "3.10.9"
  },
  "orig_nbformat": 4
 },
 "nbformat": 4,
 "nbformat_minor": 2
}
