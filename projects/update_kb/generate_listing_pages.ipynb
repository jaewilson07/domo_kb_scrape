{
 "cells": [
  {
   "cell_type": "code",
   "execution_count": 1,
   "metadata": {},
   "outputs": [],
   "source": [
    "BASE_FOLDER = '../../raw_domo_kb'\n"
   ]
  },
  {
   "cell_type": "code",
   "execution_count": 2,
   "metadata": {},
   "outputs": [
    {
     "data": {
      "text/plain": [
       "['../../raw_domo_kb\\\\category\\\\0TO5w000000ZamlGAC\\\\process.json',\n",
       " '../../raw_domo_kb\\\\category\\\\0TO5w000000ZammGAC\\\\process.json',\n",
       " '../../raw_domo_kb\\\\category\\\\0TO5w000000ZamnGAC\\\\process.json',\n",
       " '../../raw_domo_kb\\\\category\\\\0TO5w000000ZamoGAC\\\\process.json',\n",
       " '../../raw_domo_kb\\\\category\\\\0TO5w000000ZampGAC\\\\process.json']"
      ]
     },
     "execution_count": 2,
     "metadata": {},
     "output_type": "execute_result"
    }
   ],
   "source": [
    "import os\n",
    "from os import listdir\n",
    "from os.path import isfile, join\n",
    "\n",
    "\n",
    "def crawl_directory(folder_path):\n",
    "  res = []\n",
    "  for r, d, f in os.walk(folder_path):\n",
    "    for file in f:\n",
    "        if file == \"process.json\":\n",
    "            res.append(os.path.join(r, file))\n",
    "  return res\n",
    "\n",
    "\n",
    "category_ls = crawl_directory(os.path.join(BASE_FOLDER, 'category'))\n",
    "category_ls[0:5]"
   ]
  },
  {
   "attachments": {},
   "cell_type": "markdown",
   "metadata": {},
   "source": [
    "what is the longest breadcrumb?"
   ]
  },
  {
   "cell_type": "code",
   "execution_count": 3,
   "metadata": {},
   "outputs": [],
   "source": [
    "import json\n",
    "\n",
    "category_objs = []\n",
    "for file_path in category_ls:\n",
    "    with open(file_path , 'r' , encoding='utf-8' ) as f:\n",
    "        category_objs.append(json.loads(f.read()))\n",
    "        "
   ]
  },
  {
   "cell_type": "code",
   "execution_count": 4,
   "metadata": {},
   "outputs": [],
   "source": [
    "category_objs[0:5]\n",
    "\n",
    "test_category = category_objs[0]\n",
    "\n",
    "top_category = []\n",
    "max_breadcrumb = None\n",
    "for category in category_objs:\n",
    "    if not max_breadcrumb or len(category['breadcrumbs']) > len(max_breadcrumb['breadcrumbs']):\n",
    "        max_breadcrumb = category\n",
    "    if len(category['breadcrumbs']) == 2:\n",
    "        top_category.append(category)\n",
    "        "
   ]
  },
  {
   "cell_type": "code",
   "execution_count": 5,
   "metadata": {},
   "outputs": [
    {
     "data": {
      "text/plain": [
       "{'file_path': '../../raw_domo_kb/category/0TO5w000000ZamlGAC/index.html',\n",
       " 'content': {'section-list': [{'text': 'implementing_sso',\n",
       "    'url': '/s/topic/0TO5w000000ZanoGAC'},\n",
       "   {'text': 'certifications', 'url': '/s/topic/0TO5w000000ZanGGAS'},\n",
       "   {'text': 'domo_security_options', 'url': '/s/topic/0TO5w000000ZandGAC'},\n",
       "   {'text': 'governance_tools', 'url': '/s/topic/0TO5w000000ZannGAC'},\n",
       "   {'text': 'controlling_access_in_domo',\n",
       "    'url': '/s/topic/0TO5w000000ZanMGAS'},\n",
       "   {'text': 'specifying_company_settings',\n",
       "    'url': '/s/topic/0TO5w000000ZaoGGAS'},\n",
       "   {'text': 'admin_settings_overview', 'url': '/s/topic/0TO5w000000Zan4GAC'},\n",
       "   {'text': 'approvals', 'url': '/s/topic/0TO5w000000Zan5GAC'},\n",
       "   {'text': 'workflows', 'url': '/s/topic/0TO5w000000ZkAMGA0'}]},\n",
       " 'title': 'Administrating Domo',\n",
       " 'title_clean': 'administrating_domo',\n",
       " 'description': 'Learn how to manage users and groups, control access to content, configure security settings, and more.',\n",
       " 'breadcrumbs': [{'text': 'domo', 'url': '/s/knowledge-base/'},\n",
       "  {'text': 'administrating_domo', 'url': None}]}"
      ]
     },
     "execution_count": 5,
     "metadata": {},
     "output_type": "execute_result"
    }
   ],
   "source": [
    "top_category[0]"
   ]
  },
  {
   "cell_type": "code",
   "execution_count": 11,
   "metadata": {},
   "outputs": [],
   "source": [
    "import shutil\n",
    "\n",
    "def reset_folder(folder_path):\n",
    "      for r, d, f in os.walk(folder_path):\n",
    "        for directory in d:\n",
    "            folder_path = os.path.join(r, directory) \n",
    "            shutil.rmtree(folder_path)\n",
    "\n",
    "reset_folder('../../nbs/knowledge_base/')\n",
    "\n",
    "def create_folder(folder_path):\n",
    "    if os.path.exists(folder_path):\n",
    "        return\n",
    "    \n",
    "    os.mkdir(folder_path)\n"
   ]
  },
  {
   "cell_type": "code",
   "execution_count": 32,
   "metadata": {},
   "outputs": [],
   "source": [
    "def create_category(category_obj, output_base_folder):\n",
    "\n",
    "    output_folder = os.path.join(output_base_folder, category_obj['title_clean'])\n",
    "    create_folder(output_folder)\n",
    "\n",
    "    with open('template_listing.txt', 'r' , encoding = 'utf-8') as f:\n",
    "        listing_template = f.read()\n",
    "\n",
    "    listing_template = listing_template.replace(\"<<TITLE>>\", category['title']).replace('<<FOLDER>>', f'\"{category_obj[\"title_clean\"]}\"')\n",
    "    \n",
    "    listing_template = listing_template.replace(\"<<SUBTITLE>>\" , category['description'] ) if category['description'] else listing_template.replace('subtitle: <<SUBTITLE>>', '')\n",
    "    \n",
    "    with open( output_folder, 'w', encoding = 'utf-8') as f:\n",
    "        f.write(listing_template)\n",
    "\n",
    "create_category(category_objs[0], '../../nbs/knowledge_base/')"
   ]
  }
 ],
 "metadata": {
  "kernelspec": {
   "display_name": "Python 3",
   "language": "python",
   "name": "python3"
  },
  "language_info": {
   "codemirror_mode": {
    "name": "ipython",
    "version": 3
   },
   "file_extension": ".py",
   "mimetype": "text/x-python",
   "name": "python",
   "nbconvert_exporter": "python",
   "pygments_lexer": "ipython3",
   "version": "3.10.9"
  },
  "orig_nbformat": 4
 },
 "nbformat": 4,
 "nbformat_minor": 2
}
