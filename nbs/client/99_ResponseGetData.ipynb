{
 "cells": [
  {
   "attachments": {},
   "cell_type": "markdown",
   "metadata": {},
   "source": [
    "# ResponseGetData\n",
    "\n",
    "> preferred response class for all API requests\n"
   ]
  },
  {
   "cell_type": "code",
   "execution_count": null,
   "metadata": {},
   "outputs": [],
   "source": [
    "# | default_exp client.ResponseGetData"
   ]
  },
  {
   "cell_type": "code",
   "execution_count": null,
   "metadata": {},
   "outputs": [],
   "source": [
    "# | export\n",
    "# pylint: disable=no-member\n",
    "from dataclasses import dataclass, field\n",
    "from typing import Optional\n",
    "\n",
    "import asyncio\n",
    "import requests\n",
    "import aiohttp\n",
    "\n",
    "from fastcore.utils import patch_to, patch"
   ]
  },
  {
   "cell_type": "code",
   "execution_count": null,
   "metadata": {},
   "outputs": [],
   "source": [
    "# | hide\n",
    "from nbdev.showdoc import *\n",
    "from fastcore.test import test_eq"
   ]
  },
  {
   "cell_type": "code",
   "execution_count": null,
   "metadata": {},
   "outputs": [],
   "source": [
    "# | export\n",
    "API_Response = any\n",
    "\n",
    "\n",
    "@dataclass\n",
    "class ResponseGetData:\n",
    "    \"\"\"preferred response class for all API Requests\"\"\"\n",
    "\n",
    "    status: int\n",
    "    response: API_Response\n",
    "    is_success: bool\n",
    "    auth: dict = field(repr = False, default=None)\n",
    "\n",
    "    def set_response(self, response):\n",
    "        self.response = response"
   ]
  },
  {
   "cell_type": "code",
   "execution_count": null,
   "metadata": {},
   "outputs": [
    {
     "data": {
      "text/plain": [
       "ResponseGetData(status=200, response='test', is_success=True)"
      ]
     },
     "execution_count": null,
     "metadata": {},
     "output_type": "execute_result"
    }
   ],
   "source": [
    "rgd = ResponseGetData(status=200, response=\"test\", is_success=True)\n",
    "rgd"
   ]
  },
  {
   "cell_type": "code",
   "execution_count": null,
   "metadata": {},
   "outputs": [],
   "source": [
    "# | hide\n",
    "test_eq(rgd.is_success, True)"
   ]
  },
  {
   "attachments": {},
   "cell_type": "markdown",
   "metadata": {},
   "source": [
    "# Classmethods from Response objects by library\n",
    "\n",
    "This code base supports two API request libraries, `requests.request` (synchronous) and `aiohttp.ClientRequest` (asynchronous) this can be extended as new libraries emerge with different performance characteristics.\n"
   ]
  },
  {
   "cell_type": "code",
   "execution_count": null,
   "metadata": {},
   "outputs": [],
   "source": [
    "# | export\n",
    "@patch_to(ResponseGetData, cls_method=True)\n",
    "def _from_requests_response(\n",
    "    cls, res: requests.Response  # requests response object\n",
    ") -> ResponseGetData:\n",
    "    \"\"\"returns ResponseGetData\"\"\"\n",
    "\n",
    "    # JSON responses\n",
    "    if res.ok and \"application/json\" in res.headers.get(\"Content-Type\", {}):\n",
    "        return cls(status=res.status_code, response=res.json(), is_success=True)\n",
    "\n",
    "    # default text responses\n",
    "    elif res.ok:\n",
    "        return cls(status=res.status_code, response=res.text, is_success=True)\n",
    "\n",
    "    # errors\n",
    "    return cls(status=res.status_code, response=res.reason, is_success=False)"
   ]
  },
  {
   "cell_type": "code",
   "execution_count": null,
   "metadata": {},
   "outputs": [
    {
     "data": {
      "text/markdown": [
       "---\n",
       "\n",
       "[source](https://github.com/jaewilson07/domo_library/blob/main/domolibrary/client/ResponseGetData.py#L31){target=\"_blank\" style=\"float:right; font-size:smaller\"}\n",
       "\n",
       "### ResponseGetData._from_requests_response\n",
       "\n",
       ">      ResponseGetData._from_requests_response (res:requests.models.Response)\n",
       "\n",
       "returns ResponseGetData\n",
       "\n",
       "|    | **Type** | **Details** |\n",
       "| -- | -------- | ----------- |\n",
       "| res | Response | requests response object |\n",
       "| **Returns** | **ResponseGetData** |  |"
      ],
      "text/plain": [
       "---\n",
       "\n",
       "[source](https://github.com/jaewilson07/domo_library/blob/main/domolibrary/client/ResponseGetData.py#L31){target=\"_blank\" style=\"float:right; font-size:smaller\"}\n",
       "\n",
       "### ResponseGetData._from_requests_response\n",
       "\n",
       ">      ResponseGetData._from_requests_response (res:requests.models.Response)\n",
       "\n",
       "returns ResponseGetData\n",
       "\n",
       "|    | **Type** | **Details** |\n",
       "| -- | -------- | ----------- |\n",
       "| res | Response | requests response object |\n",
       "| **Returns** | **ResponseGetData** |  |"
      ]
     },
     "execution_count": null,
     "metadata": {},
     "output_type": "execute_result"
    }
   ],
   "source": [
    "show_doc(ResponseGetData._from_requests_response)\n"
   ]
  },
  {
   "cell_type": "code",
   "execution_count": null,
   "metadata": {},
   "outputs": [
    {
     "name": "stdout",
     "output_type": "stream",
     "text": [
      "200\n"
     ]
    },
    {
     "data": {
      "text/plain": [
       "dict_keys(['status', 'response', 'is_success', 'auth'])"
      ]
     },
     "execution_count": null,
     "metadata": {},
     "output_type": "execute_result"
    }
   ],
   "source": [
    "# test _from_requests_response returns ResponseGetData class\n",
    "import os\n",
    "import requests\n",
    "\n",
    "url = f\"https://domo-dojo.domo.com/api/content/v2/authentication\"\n",
    "\n",
    "tokenHeaders = {\"Content-Type\": \"application/json\"}\n",
    "\n",
    "body = {\n",
    "    \"method\": \"password\",\n",
    "    \"emailAddress\": \"jae@onyxreporting.com\",\n",
    "    \"password\": os.environ[\"DOJO_PASSWORD\"],\n",
    "}\n",
    "\n",
    "res = requests.request(method=\"POST\", url=url, json=body, headers=tokenHeaders)\n",
    "\n",
    "print(res.status_code)\n",
    "\n",
    "test_res = ResponseGetData._from_requests_response(res)\n",
    "test_res.__dict__.keys()"
   ]
  },
  {
   "cell_type": "code",
   "execution_count": null,
   "metadata": {},
   "outputs": [],
   "source": [
    "# | hide\n",
    "test_eq(isinstance(test_res, ResponseGetData), True)"
   ]
  },
  {
   "cell_type": "code",
   "execution_count": null,
   "metadata": {},
   "outputs": [],
   "source": [
    "# | export\n",
    "@patch(cls_method=True)\n",
    "async def _from_aiohttp_response(\n",
    "    cls: ResponseGetData, \n",
    "    res: aiohttp.ClientResponse,  # requests response object\n",
    "    auth : Optional[any] = None\n",
    ") -> ResponseGetData:\n",
    "\n",
    "    \"\"\"async method returns ResponseGetData\"\"\"\n",
    "\n",
    "    if res.ok and \"application/json\" in res.headers.get(\"Content-Type\", {}):\n",
    "        try:\n",
    "            return cls(status=res.status, response=await res.json(), is_success=True, auth = auth)\n",
    "\n",
    "        # handle if unable to decode json()\n",
    "        except asyncio.TimeoutError as e:\n",
    "            print(e)\n",
    "            print(\"response included json, but defaulted to backup decode method\")\n",
    "\n",
    "            return cls(status=res.status, response=await res.read(), is_success=True, auth = auth)\n",
    "\n",
    "        # response is text\n",
    "    elif res.ok:\n",
    "        return cls(status=res.status, response=await res.text(), is_success=True, auth = auth)\n",
    "\n",
    "    # response is error\n",
    "    else:\n",
    "        return cls(status=res.status, response=res.reason, is_success=False, auth = auth)"
   ]
  },
  {
   "cell_type": "code",
   "execution_count": null,
   "metadata": {},
   "outputs": [
    {
     "data": {
      "text/markdown": [
       "---\n",
       "\n",
       "[source](https://github.com/jaewilson07/domo_library/blob/main/domolibrary/client/ResponseGetData.py#L49){target=\"_blank\" style=\"float:right; font-size:smaller\"}\n",
       "\n",
       "### ResponseGetData._from_aiohttp_response\n",
       "\n",
       ">      ResponseGetData._from_aiohttp_response\n",
       ">                                              (res:aiohttp.client_reqrep.Client\n",
       ">                                              Response, auth:Optional[<built-\n",
       ">                                              infunctionany>]=None)\n",
       "\n",
       "async method returns ResponseGetData"
      ],
      "text/plain": [
       "---\n",
       "\n",
       "[source](https://github.com/jaewilson07/domo_library/blob/main/domolibrary/client/ResponseGetData.py#L49){target=\"_blank\" style=\"float:right; font-size:smaller\"}\n",
       "\n",
       "### ResponseGetData._from_aiohttp_response\n",
       "\n",
       ">      ResponseGetData._from_aiohttp_response\n",
       ">                                              (res:aiohttp.client_reqrep.Client\n",
       ">                                              Response, auth:Optional[<built-\n",
       ">                                              infunctionany>]=None)\n",
       "\n",
       "async method returns ResponseGetData"
      ]
     },
     "execution_count": null,
     "metadata": {},
     "output_type": "execute_result"
    }
   ],
   "source": [
    "show_doc(ResponseGetData._from_aiohttp_response)\n"
   ]
  },
  {
   "cell_type": "code",
   "execution_count": null,
   "metadata": {},
   "outputs": [
    {
     "name": "stdout",
     "output_type": "stream",
     "text": [
      "200\n"
     ]
    },
    {
     "data": {
      "text/plain": [
       "dict_keys(['status', 'response', 'is_success', 'auth'])"
      ]
     },
     "execution_count": null,
     "metadata": {},
     "output_type": "execute_result"
    }
   ],
   "source": [
    "# test _from_aiohttp_response returns ResponseGetData class\n",
    "\n",
    "import os\n",
    "import requests\n",
    "\n",
    "\n",
    "url = f\"https://domo-dojo.domo.com/api/content/v2/authentication\"\n",
    "\n",
    "body = {\n",
    "    \"method\": \"password\",\n",
    "    \"emailAddress\": \"jae@onyxreporting.com\",\n",
    "    \"password\": os.environ[\"DOJO_PASSWORD\"],\n",
    "}\n",
    "\n",
    "session = aiohttp.ClientSession()\n",
    "res = await session.post(url=url, json=body)\n",
    "await session.close()\n",
    "\n",
    "print(res.status)\n",
    "\n",
    "test_res = await ResponseGetData._from_aiohttp_response(res)\n",
    "test_res.__dict__.keys()"
   ]
  },
  {
   "cell_type": "code",
   "execution_count": null,
   "metadata": {},
   "outputs": [],
   "source": [
    "# | hide\n",
    "test_eq(isinstance(test_res, ResponseGetData), True)"
   ]
  },
  {
   "cell_type": "code",
   "execution_count": null,
   "metadata": {},
   "outputs": [],
   "source": [
    "# | export\n",
    "@patch(cls_method=True)\n",
    "async def _from_looper(cls: ResponseGetData,\n",
    "                       res: ResponseGetData,  # requests response object\n",
    "                       array: list\n",
    "                       ) -> ResponseGetData:\n",
    "\n",
    "    \"\"\"async method returns ResponseGetData\"\"\"\n",
    "\n",
    "    if res.is_success:\n",
    "        res.response = array\n",
    "        return res\n",
    "\n",
    "    # response is error\n",
    "    else:\n",
    "        return res\n"
   ]
  },
  {
   "cell_type": "code",
   "execution_count": null,
   "metadata": {},
   "outputs": [],
   "source": [
    "# | hide\n",
    "import nbdev\n",
    "\n",
    "nbdev.nbdev_export()"
   ]
  }
 ],
 "metadata": {
  "kernelspec": {
   "display_name": "Python 3",
   "language": "python",
   "name": "python3"
  }
 },
 "nbformat": 4,
 "nbformat_minor": 4
}
