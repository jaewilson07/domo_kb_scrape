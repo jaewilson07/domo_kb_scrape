{
 "cells": [
  {
   "attachments": {},
   "cell_type": "markdown",
   "metadata": {},
   "source": [
    "# Conversion utility functions"
   ]
  },
  {
   "cell_type": "code",
   "execution_count": null,
   "metadata": {},
   "outputs": [],
   "source": [
    "#| default_exp utils.convert"
   ]
  },
  {
   "cell_type": "code",
   "execution_count": null,
   "metadata": {},
   "outputs": [],
   "source": [
    "#| export\n",
    "import datetime as dt"
   ]
  },
  {
   "cell_type": "code",
   "execution_count": null,
   "metadata": {},
   "outputs": [],
   "source": [
    "#| exporti\n",
    "import fastcore.test as fctest"
   ]
  },
  {
   "cell_type": "code",
   "execution_count": null,
   "metadata": {},
   "outputs": [],
   "source": [
    "#| export\n",
    "def convert_epoch_millisecond_to_datetime(epoch: int):\n",
    "    '''convert Epoch time with miliseconds to Date time'''\n",
    "    return dt.datetime.fromtimestamp(epoch / 1000.0)"
   ]
  },
  {
   "cell_type": "code",
   "execution_count": null,
   "metadata": {},
   "outputs": [],
   "source": [
    "#| export\n",
    "def convert_datetime_to_epoch_millisecond(datetime: dt.datetime):\n",
    "    '''convert DateTime to Epoch time with Miliseconds'''\n",
    "    return int(datetime.timestamp() * 1000)"
   ]
  },
  {
   "cell_type": "code",
   "execution_count": null,
   "metadata": {},
   "outputs": [
    {
     "name": "stdout",
     "output_type": "stream",
     "text": [
      "2023-01-06 20:03:45.303000\n",
      "1673035425303\n"
     ]
    }
   ],
   "source": [
    "import time\n",
    "import datetime as dt \n",
    "\n",
    "cur_time = int(time.time()*1000)\n",
    "\n",
    "cur_datetime =  convert_epoch_millisecond_to_datetime(cur_time)\n",
    "print(cur_datetime)\n",
    "\n",
    "test_time = convert_datetime_to_epoch_millisecond(cur_datetime)\n",
    "print(test_time)\n",
    "\n",
    "fctest.test_eq(test_time, cur_time)"
   ]
  },
  {
   "cell_type": "code",
   "execution_count": null,
   "metadata": {},
   "outputs": [],
   "source": [
    "#| export\n",
    "def convert_snake_to_pascal(str):\n",
    "    \"\"\"converts 'snake_case_str' to 'snakeCaseStr'\"\"\"\n",
    "    \n",
    "    clean_str = str.replace(\"_\", \" \").title().replace(\" \", \"\")\n",
    "    return clean_str[0].lower()+clean_str[1:]"
   ]
  },
  {
   "cell_type": "code",
   "execution_count": null,
   "metadata": {},
   "outputs": [
    {
     "data": {
      "text/plain": [
       "'testSnakeCase'"
      ]
     },
     "execution_count": null,
     "metadata": {},
     "output_type": "execute_result"
    }
   ],
   "source": [
    "convert_str = 'test_snake_case'\n",
    "\n",
    "convert_snake_to_pascal(convert_str)"
   ]
  },
  {
   "cell_type": "code",
   "execution_count": null,
   "metadata": {},
   "outputs": [],
   "source": [
    "# | hide\n",
    "import nbdev\n",
    "\n",
    "nbdev.nbdev_export()\n"
   ]
  }
 ],
 "metadata": {
  "jupytext": {
   "split_at_heading": true
  },
  "kernelspec": {
   "display_name": "Python 3",
   "language": "python",
   "name": "python3"
  }
 },
 "nbformat": 4,
 "nbformat_minor": 4
}
