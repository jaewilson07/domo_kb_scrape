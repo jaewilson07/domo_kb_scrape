{
 "cells": [
  {
   "attachments": {},
   "cell_type": "markdown",
   "metadata": {},
   "source": [
    "# DictDot\n",
    "\n",
    "> a utility class that converts json into an object that supports data retrieval with dot notation"
   ]
  },
  {
   "cell_type": "code",
   "execution_count": null,
   "metadata": {},
   "outputs": [],
   "source": [
    "#| default_exp utils.DictDot"
   ]
  },
  {
   "cell_type": "code",
   "execution_count": null,
   "metadata": {},
   "outputs": [],
   "source": [
    "#| export\n",
    "from types import SimpleNamespace"
   ]
  },
  {
   "cell_type": "code",
   "execution_count": null,
   "metadata": {},
   "outputs": [],
   "source": [
    "# | export\n",
    "class DictDot(SimpleNamespace):\n",
    "    \"\"\"a utility class that converts json into an object that supports data retrieval with dot notation\"\"\"\n",
    "\n",
    "    def __init__(self, dictionary: dict,  # dictionary to convert\n",
    "                 **kwargs):\n",
    "        super().__init__(**kwargs)\n",
    "\n",
    "        for key, value in dictionary.items():\n",
    "            if isinstance(value, dict):\n",
    "                self.__setattr__(key, DictDot(value))\n",
    "            elif isinstance(value, list):\n",
    "                new_list = []\n",
    "                for item in value:\n",
    "                    if isinstance(item, dict):\n",
    "                        new_list.append(DictDot(item))\n",
    "                    else:\n",
    "                        new_list.append(item)\n",
    "                self.__setattr__(key, new_list)\n",
    "            else:\n",
    "                self.__setattr__(key, value)\n",
    "\n",
    "    def __getattr__(self, item):\n",
    "        return None\n"
   ]
  },
  {
   "attachments": {},
   "cell_type": "markdown",
   "metadata": {},
   "source": [
    "#### sample implementation of DictDot"
   ]
  },
  {
   "cell_type": "code",
   "execution_count": null,
   "metadata": {},
   "outputs": [
    {
     "name": "stdout",
     "output_type": "stream",
     "text": [
      "DictDot(name='my object', description='please convert me', type='a good old fashioned dictionary')\n"
     ]
    },
    {
     "data": {
      "text/plain": [
       "'a good old fashioned dictionary'"
      ]
     },
     "execution_count": null,
     "metadata": {},
     "output_type": "execute_result"
    }
   ],
   "source": [
    "foo = { \"name\": \"my object\", \"description\" : \"please convert me\", \"type\": \"a good old fashioned dictionary\"}\n",
    "\n",
    "dd = DictDot(foo)\n",
    "\n",
    "print(dd)\n",
    "\n",
    "dd.type"
   ]
  },
  {
   "cell_type": "code",
   "execution_count": null,
   "metadata": {},
   "outputs": [],
   "source": [
    "# | hide\n",
    "import nbdev\n",
    "\n",
    "nbdev.nbdev_export()\n"
   ]
  }
 ],
 "metadata": {
  "jupytext": {
   "split_at_heading": true
  },
  "kernelspec": {
   "display_name": "Python 3",
   "language": "python",
   "name": "python3"
  }
 },
 "nbformat": 4,
 "nbformat_minor": 4
}
