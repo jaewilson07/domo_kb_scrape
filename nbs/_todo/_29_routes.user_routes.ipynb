{
 "cells": [
  {
   "cell_type": "raw",
   "metadata": {},
   "source": [
    "---\n",
    "description: Default description (change me)\n",
    "output-file: routes.user_routes.html\n",
    "title: Default Title (change me)\n",
    "\n",
    "---\n",
    "\n"
   ]
  },
  {
   "cell_type": "code",
   "execution_count": null,
   "metadata": {},
   "outputs": [],
   "source": [
    "#| default_exp routes.user_routes"
   ]
  },
  {
   "cell_type": "code",
   "execution_count": null,
   "metadata": {},
   "outputs": [],
   "source": [
    "#| export\n",
    "from .get_data import get_data\n",
    "from ..DomoAuth import DomoFullAuth\n",
    "from ...utils.ResponseGetData import ResponseGetData"
   ]
  },
  {
   "cell_type": "code",
   "execution_count": null,
   "metadata": {},
   "outputs": [],
   "source": [
    "#| export\n",
    "async def create_user(full_auth: DomoFullAuth, display_name, email, role_id, debug: bool = False,\n",
    "                      log_results: bool = False):\n",
    "    url = f\"https://{full_auth.domo_instance}.domo.com/api/content/v3/users\"\n",
    "\n",
    "    body = {\"displayName\": display_name, \"detail\": {\n",
    "        \"email\": email}, \"roleId\": role_id}\n",
    "\n",
    "    res = await get_data(url=url, method='POST', auth=full_auth, body=body, log_results=log_results, debug=debug)\n",
    "    return res"
   ]
  },
  {
   "cell_type": "code",
   "execution_count": null,
   "metadata": {},
   "outputs": [],
   "source": [
    "#| export\n",
    "async def get_all_users(full_auth: DomoFullAuth, log_results: bool = False, debug: bool = False) -> ResponseGetData:\n",
    "    url = f'https://{full_auth.domo_instance}.domo.com/api/content/v2/users'\n",
    "\n",
    "    if log_results:\n",
    "        print(f'Getting users from - {url}')\n",
    "\n",
    "    res = await get_data(url=url, method='GET', auth=full_auth, log_results=log_results, debug=debug)\n",
    "\n",
    "    return res"
   ]
  },
  {
   "cell_type": "code",
   "execution_count": null,
   "metadata": {},
   "outputs": [],
   "source": [
    "#| export\n",
    "def generate_search_users_body_by_id(ids: list[str]) -> dict:\n",
    "    return {\n",
    "        # \"showCount\": true,\n",
    "        # \"count\": false,\n",
    "        \"includeDeleted\": False,\n",
    "        \"includeSupport\": False,\n",
    "        \"filters\": [\n",
    "            {\n",
    "                \"field\": \"id\",\n",
    "                \"filterType\": \"value\",\n",
    "                \"values\": ids,\n",
    "                \"operator\": \"EQ\"\n",
    "\n",
    "            }\n",
    "        ]\n",
    "    }"
   ]
  },
  {
   "cell_type": "code",
   "execution_count": null,
   "metadata": {},
   "outputs": [],
   "source": [
    "#| export\n",
    "def generate_search_users_body_by_email(email_address) -> dict:\n",
    "    \"\"\"search does not appear to be case sensitive\"\"\"\n",
    "\n",
    "    body = {\n",
    "        # \"showCount\": true,\n",
    "        # \"count\": false,\n",
    "        \"includeDeleted\": False,\n",
    "        \"includeSupport\": False,\n",
    "        \"limit\": 200,\n",
    "        \"offset\": 0,\n",
    "        \"sort\": {\n",
    "            \"field\": \"displayName\",\n",
    "            \"order\": \"ASC\"\n",
    "        },\n",
    "        \"filters\": [\n",
    "            {\n",
    "                \"filterType\": \"text\",\n",
    "                \"field\": \"emailAddress\",\n",
    "                \"text\": email_address\n",
    "            }\n",
    "        ]\n",
    "\n",
    "    }\n",
    "    return body"
   ]
  },
  {
   "cell_type": "code",
   "execution_count": null,
   "metadata": {},
   "outputs": [],
   "source": [
    "#| export\n",
    "async def search_virtual_user_by_subscriber_instance(full_auth: DomoFullAuth, subscriber_instance, debug: False,\n",
    "                                                     log_results: bool = False) -> ResponseGetData:\n",
    "    url = f'https://{full_auth.domo_instance}.domo.com/api/publish/v2/proxy_user/domain/'\n",
    "\n",
    "    body = {\"domains\": [f\"{subscriber_instance}.domo.com\"]}\n",
    "\n",
    "    res = await get_data(url=url, method='POST', auth=full_auth, body=body, log_results=log_results, debug=debug)\n",
    "    return res"
   ]
  },
  {
   "cell_type": "code",
   "execution_count": null,
   "metadata": {},
   "outputs": [],
   "source": [
    "#| export\n",
    "async def search_users(full_auth: DomoFullAuth, body: dict, log_results: bool = False,\n",
    "                       debug: bool = False) -> ResponseGetData:\n",
    "    url = f'https://{full_auth.domo_instance}.domo.com/api/identity/v1/users/search'\n",
    "\n",
    "    if log_results:\n",
    "        print(f'Getting users from - {url}')\n",
    "\n",
    "    res = await get_data(url=url, method='POST', auth=full_auth, body=body, log_results=log_results, debug=debug)\n",
    "\n",
    "    return res"
   ]
  },
  {
   "cell_type": "code",
   "execution_count": null,
   "metadata": {},
   "outputs": [],
   "source": [
    "#| export\n",
    "async def reset_password(full_auth: DomoFullAuth, user_id: str, new_password: str, log_results: bool = False,\n",
    "                         debug: bool = False) -> ResponseGetData:\n",
    "    url = f'https://{full_auth.domo_instance}.domo.com/api/identity/v1/password'\n",
    "\n",
    "    body = {\n",
    "        \"domoUserId\": user_id,\n",
    "        \"password\": new_password}\n",
    "\n",
    "    if debug:\n",
    "        print(url)\n",
    "        print(body)\n",
    "\n",
    "    res = await get_data(url=url, method='PUT', auth=full_auth, body=body, log_results=log_results, debug=debug)\n",
    "\n",
    "    return res"
   ]
  },
  {
   "cell_type": "code",
   "execution_count": null,
   "metadata": {},
   "outputs": [],
   "source": [
    "#| export\n",
    "async def request_password_reset(domo_instance: str, email: str, locale='en-us', debug: bool = False):\n",
    "    url = f'https://{domo_instance}.domo.com/api/domoweb/auth/sendReset'\n",
    "\n",
    "    params = {'email': email,\n",
    "              'local': locale}\n",
    "\n",
    "    return await get_data(url=url,\n",
    "                          method='GET',\n",
    "                          auth=None,\n",
    "                          params=params, debug=debug)"
   ]
  },
  {
   "cell_type": "code",
   "execution_count": null,
   "metadata": {},
   "outputs": [],
   "source": [
    "#| export\n",
    "async def set_user_landing_page( full_auth: DomoFullAuth, user_id: str,\n",
    "                             page_id:str,\n",
    "                             debug:bool = False ):\n",
    "    \n",
    "    url = f'https://{full_auth.domo_instance}.domo.com/api/content/v1/landings/target/DESKTOP/entity/PAGE/id/{page_id}/{user_id}'\n",
    "        \n",
    "    return await get_data(url=url,\n",
    "                          method='PUT',\n",
    "                          auth=full_auth,\n",
    "                          # body = body,\n",
    "                          debug=debug)\n",
    "\n",
    "                             \n",
    "                             "
   ]
  }
 ],
 "metadata": {
  "jupytext": {
   "split_at_heading": true
  },
  "kernelspec": {
   "display_name": "Python 3",
   "language": "python",
   "name": "python3"
  }
 },
 "nbformat": 4,
 "nbformat_minor": 4
}
