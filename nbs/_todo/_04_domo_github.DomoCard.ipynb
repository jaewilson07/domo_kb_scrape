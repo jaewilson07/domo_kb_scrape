{
 "cells": [
  {
   "cell_type": "raw",
   "metadata": {},
   "source": [
    "---\n",
    "description: Default description (change me)\n",
    "output-file: domo_github.domocard.html\n",
    "title: Default Title (change me)\n",
    "\n",
    "---\n",
    "\n"
   ]
  },
  {
   "cell_type": "code",
   "execution_count": null,
   "metadata": {},
   "outputs": [],
   "source": [
    "#| default_exp domo_github.DomoCard"
   ]
  },
  {
   "cell_type": "code",
   "execution_count": null,
   "metadata": {},
   "outputs": [],
   "source": [
    "#| export\n",
    "from dataclasses import dataclass, field\n",
    "\n",
    "from .routes import card_routes\n",
    "from .DomoAuth import DomoDeveloperAuth, DomoFullAuth\n",
    "from ..utils.DictDot import DictDot\n",
    "from ..utils.Base import Base"
   ]
  },
  {
   "cell_type": "code",
   "execution_count": null,
   "metadata": {},
   "outputs": [],
   "source": [
    "#| export\n",
    "@dataclass\n",
    "class DomoCard(Base):\n",
    "    id: str\n",
    "    full_auth: DomoFullAuth = field(repr=False)\n",
    "    title: str = None\n",
    "    description: str = None\n",
    "    type: str = None\n",
    "    urn: str = None\n",
    "    chart_type: str = None\n",
    "    dataset_id: str = None\n",
    "    certification: field(default_factory=dict) = None\n",
    "    owner_members: field(default_factory=list) = None\n",
    "\n",
    "    def __post_init__(self):\n",
    "        Base().__init__()\n",
    "\n",
    "        self.domo_instance = self.full_auth.domo_instance\n",
    "        # self.Definition = CardDefinition(self)\n",
    "\n",
    "    def display_url(self) -> str:\n",
    "        return f'https://{self.domo_instance}.domo.com/kpis/details/{self.id}'\n",
    "\n",
    "    @classmethod\n",
    "    async def get_from_id(cls, id: str, full_auth: DomoFullAuth, debug: bool = False):\n",
    "        res = await card_routes.get_card_metadata(full_auth=full_auth, card_id=id, debug=debug)\n",
    "\n",
    "        if res.status == 200:\n",
    "            dd = DictDot(res.response[0])\n",
    "\n",
    "            card = cls(\n",
    "                full_auth=full_auth,\n",
    "                id=dd.id,\n",
    "                title=dd.title,\n",
    "                description=dd.description,\n",
    "                type=dd.type,\n",
    "                urn=dd.urn,\n",
    "                certification=dd.certification,\n",
    "                owner_members=dd.owners,\n",
    "                chart_type=dd.metadata.chartType\n",
    "            )\n",
    "\n",
    "            if dd.datasources:\n",
    "                card.dataset_id = dd.datasources[0].dataSourceId\n",
    "\n",
    "            return card"
   ]
  }
 ],
 "metadata": {
  "jupytext": {
   "split_at_heading": true
  },
  "kernelspec": {
   "display_name": "Python 3",
   "language": "python",
   "name": "python3"
  }
 },
 "nbformat": 4,
 "nbformat_minor": 4
}
