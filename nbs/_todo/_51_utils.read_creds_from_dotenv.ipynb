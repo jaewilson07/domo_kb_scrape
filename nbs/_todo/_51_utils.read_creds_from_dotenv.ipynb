{
 "cells": [
  {
   "cell_type": "raw",
   "metadata": {},
   "source": [
    "---\n",
    "description: Default description (change me)\n",
    "output-file: utils.read_creds_from_dotenv.html\n",
    "title: Default Title (change me)\n",
    "\n",
    "---\n",
    "\n"
   ]
  },
  {
   "cell_type": "code",
   "execution_count": null,
   "metadata": {},
   "outputs": [],
   "source": [
    "#| default_exp utils.read_creds_from_dotenv"
   ]
  },
  {
   "cell_type": "code",
   "execution_count": null,
   "metadata": {},
   "outputs": [],
   "source": [
    "#| export\n",
    "import os\n",
    "from os.path import exists\n",
    "from pprint import pprint\n",
    "\n",
    "from dotenv import load_dotenv\n",
    "\n",
    "from . import DictDot as dd"
   ]
  },
  {
   "cell_type": "code",
   "execution_count": null,
   "metadata": {},
   "outputs": [],
   "source": [
    "#| export\n",
    "def split_str_to_obj(env_string: str, value_split_keys: list[str]):\n",
    "    env_list = env_string.split('|')\n",
    "    obj = {}\n",
    "\n",
    "    for index, new_obj_key in enumerate(value_split_keys):\n",
    "        obj[new_obj_key] = env_list[index]\n",
    "\n",
    "    return dd.DictDot(obj)"
   ]
  },
  {
   "cell_type": "code",
   "execution_count": null,
   "metadata": {},
   "outputs": [],
   "source": [
    "#| export\n",
    "def split_creds(env: dd.DictDot, key_starts_with: str, env_var_list: list[str]):\n",
    "    env_lines_to_split = [getattr(env, key) for key in dir(\n",
    "        env) if key.startswith(key_starts_with)]\n",
    "\n",
    "    return [split_str_to_obj(env_string=line, value_split_keys=env_var_list) for line in env_lines_to_split]"
   ]
  },
  {
   "cell_type": "code",
   "execution_count": null,
   "metadata": {},
   "outputs": [],
   "source": [
    "#| export\n",
    "def read_creds_from_dotenv(env_path: str = '.env',\n",
    "                           params: list[str] = None,\n",
    "                           debug: bool = False) -> dd.DictDot:\n",
    "    \"\"\"use_prod = false will replace all PROD values with matching TEST values\"\"\"\n",
    "\n",
    "    file_exists = exists(env_path)\n",
    "    if not file_exists:\n",
    "        print(f\"file not found at -- {env_path}\")\n",
    "        raise Exception('env file not found')\n",
    "\n",
    "    load_dotenv(env_path)\n",
    "    params = params or list(os.environ.keys())\n",
    "\n",
    "    params_res = {}\n",
    "    for param in params:\n",
    "        param = str(param)\n",
    "        params_res.update({param: os.environ.get(param)})\n",
    "\n",
    "    if debug:\n",
    "        pprint(vars(os.environ))\n",
    "        pprint({'read_creds_from_params': params_res})\n",
    "\n",
    "    return dd.DictDot(params_res)"
   ]
  }
 ],
 "metadata": {
  "jupytext": {
   "split_at_heading": true
  },
  "kernelspec": {
   "display_name": "Python 3",
   "language": "python",
   "name": "python3"
  }
 },
 "nbformat": 4,
 "nbformat_minor": 4
}
