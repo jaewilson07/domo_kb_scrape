{
 "cells": [
  {
   "cell_type": "raw",
   "metadata": {},
   "source": [
    "---\n",
    "description: Default description (change me)\n",
    "output-file: routes.bootstrap_routes.html\n",
    "title: Default Title (change me)\n",
    "\n",
    "---\n",
    "\n"
   ]
  },
  {
   "cell_type": "code",
   "execution_count": null,
   "metadata": {},
   "outputs": [],
   "source": [
    "#| default_exp routes.bootstrap_routes"
   ]
  },
  {
   "cell_type": "code",
   "execution_count": null,
   "metadata": {},
   "outputs": [],
   "source": [
    "#| export\n",
    "import aiohttp\n",
    "\n",
    "from ...utils.ResponseGetData import ResponseGetData\n",
    "from ..DomoAuth import DomoFullAuth\n",
    "from .get_data import get_data"
   ]
  },
  {
   "cell_type": "code",
   "execution_count": null,
   "metadata": {},
   "outputs": [],
   "source": [
    "#| export\n",
    "async def get_bootstrap(full_auth: DomoFullAuth, debug: bool, session: aiohttp.ClientSession = None) -> ResponseGetData:\n",
    "    \"\"\"get bootstrap data\"\"\"\n",
    "\n",
    "    url = f'https://{full_auth.domo_instance}.domo.com/api/domoweb/bootstrap?v2Navigation=false'\n",
    "\n",
    "    res = await get_data(url=url, method='GET', auth=full_auth, debug=debug, session=session)\n",
    "\n",
    "    if debug:\n",
    "        res.print(is_pretty=True)\n",
    "\n",
    "    return res"
   ]
  },
  {
   "cell_type": "code",
   "execution_count": null,
   "metadata": {},
   "outputs": [],
   "source": [
    "#| export\n",
    "async def bsr_features(full_auth: DomoFullAuth, session: aiohttp.ClientSession = None, debug: bool = False) -> list[\n",
    "        dict]:\n",
    "    res = await get_bootstrap(full_auth=full_auth, session=session, debug=debug)\n",
    "\n",
    "    if res.status == 200:\n",
    "        bsr = res.response.get('data').get('features')\n",
    "        return bsr"
   ]
  }
 ],
 "metadata": {
  "jupytext": {
   "split_at_heading": true
  },
  "kernelspec": {
   "display_name": "Python 3",
   "language": "python",
   "name": "python3"
  }
 },
 "nbformat": 4,
 "nbformat_minor": 4
}
