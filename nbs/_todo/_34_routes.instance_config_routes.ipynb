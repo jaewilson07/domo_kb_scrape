{
 "cells": [
  {
   "cell_type": "raw",
   "metadata": {},
   "source": [
    "---\n",
    "description: Default description (change me)\n",
    "output-file: routes.instance_config_routes.html\n",
    "title: Default Title (change me)\n",
    "\n",
    "---\n",
    "\n"
   ]
  },
  {
   "cell_type": "code",
   "execution_count": null,
   "metadata": {},
   "outputs": [],
   "source": [
    "#| default_exp routes.instance_config_routes"
   ]
  },
  {
   "cell_type": "code",
   "execution_count": null,
   "metadata": {},
   "outputs": [],
   "source": [
    "#| export\n",
    "import aiohttp\n",
    "\n",
    "from .get_data import get_data, looper\n",
    "from ..DomoAuth import DomoFullAuth\n",
    "from ...utils.ResponseGetData import ResponseGetData"
   ]
  },
  {
   "cell_type": "code",
   "execution_count": null,
   "metadata": {},
   "outputs": [],
   "source": [
    "#| export\n",
    "async def get_whitelist(full_auth: DomoFullAuth,\n",
    "                        session: aiohttp.ClientSession = None,\n",
    "                        debug: bool = False,\n",
    "                        log_results: bool = False\n",
    "                        ) -> ResponseGetData:\n",
    "    url = f'https://{full_auth.domo_instance}.domo.com/admin/companysettings/whitelist'\n",
    "\n",
    "    if debug:\n",
    "        print(url)\n",
    "\n",
    "    res = await get_data(\n",
    "        auth=full_auth,\n",
    "        url=url,\n",
    "        method='GET',\n",
    "        session=session,\n",
    "        debug=False\n",
    "    )\n",
    "\n",
    "    return res"
   ]
  },
  {
   "cell_type": "code",
   "execution_count": null,
   "metadata": {},
   "outputs": [],
   "source": [
    "#| export\n",
    "async def update_whitelist(full_auth: DomoFullAuth,\n",
    "                           ip_address_list: list[str],\n",
    "                           debug: bool = False,\n",
    "                           log_results: bool = False\n",
    "                           ) -> ResponseGetData:\n",
    "    url = f'https://{full_auth.domo_instance}.domo.com/admin/companysettings/whitelist'\n",
    "\n",
    "    body = {'addresses': ip_address_list}\n",
    "\n",
    "    if debug:\n",
    "        print(url)\n",
    "        print(body)\n",
    "\n",
    "    res = await get_data(\n",
    "        auth=full_auth,\n",
    "        url=url,\n",
    "        method='PUT',\n",
    "        body=body,\n",
    "        log_results=log_results,\n",
    "        debug=debug\n",
    "    )\n",
    "\n",
    "    return res"
   ]
  },
  {
   "cell_type": "code",
   "execution_count": null,
   "metadata": {},
   "outputs": [],
   "source": [
    "#| export\n",
    "async def update_authorized_domains(full_auth: DomoFullAuth, authorized_domain_list: list[str],\n",
    "                                    debug: bool = False, log_results: bool = False,\n",
    "                                    session: aiohttp.ClientSession = None):\n",
    "    url = f'https://{full_auth.domo_instance}.domo.com/api/content/v1/customer-states/authorized-domains'\n",
    "\n",
    "    body = {\n",
    "        \"name\": \"authorized-domains\",\n",
    "        \"value\": \",\".join(authorized_domain_list)\n",
    "    }\n",
    "\n",
    "    if debug:\n",
    "        print(url)\n",
    "\n",
    "    res = await get_data(\n",
    "        auth=full_auth,\n",
    "        url=url,\n",
    "        method='PUT',\n",
    "        body=body,\n",
    "        log_results=log_results,\n",
    "        debug=debug,\n",
    "        session=session\n",
    "    )\n",
    "\n",
    "    return res"
   ]
  },
  {
   "cell_type": "code",
   "execution_count": null,
   "metadata": {},
   "outputs": [],
   "source": [
    "#| export\n",
    "async def get_authorized_domains(full_auth: DomoFullAuth,\n",
    "                                 debug: bool = False, log_results: bool = False,\n",
    "                                 session: aiohttp.ClientSession = None\n",
    "                                 ):\n",
    "    url = f'https://{full_auth.domo_instance}.domo.com/api/content/v1/customer-states/authorized-domains'\n",
    "\n",
    "    if debug:\n",
    "        print(url)\n",
    "\n",
    "    res = await get_data(\n",
    "        auth=full_auth,\n",
    "        url=url,\n",
    "        method='GET',\n",
    "        log_results=log_results,\n",
    "        debug=debug,\n",
    "        session=session\n",
    "    )\n",
    "\n",
    "    return res"
   ]
  }
 ],
 "metadata": {
  "jupytext": {
   "split_at_heading": true
  },
  "kernelspec": {
   "display_name": "Python 3",
   "language": "python",
   "name": "python3"
  }
 },
 "nbformat": 4,
 "nbformat_minor": 4
}
