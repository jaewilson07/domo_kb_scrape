{
 "cells": [
  {
   "cell_type": "raw",
   "metadata": {},
   "source": [
    "---\n",
    "description: Default description (change me)\n",
    "output-file: utils.chunk_execution.html\n",
    "title: Default Title (change me)\n",
    "\n",
    "---\n",
    "\n"
   ]
  },
  {
   "cell_type": "code",
   "execution_count": null,
   "metadata": {},
   "outputs": [],
   "source": [
    "#| default_exp utils.chunk_execution"
   ]
  },
  {
   "cell_type": "code",
   "execution_count": null,
   "metadata": {},
   "outputs": [],
   "source": [
    "#| export\n",
    "from typing import Any, Awaitable"
   ]
  },
  {
   "cell_type": "code",
   "execution_count": null,
   "metadata": {},
   "outputs": [],
   "source": [
    "#| export\n",
    "async def run_sequence(*functions: Awaitable[Any]) -> None:\n",
    "    for function in functions:\n",
    "        await function"
   ]
  },
  {
   "cell_type": "code",
   "execution_count": null,
   "metadata": {},
   "outputs": [],
   "source": [
    "#| export\n",
    "def chunk_list(tlist, chunk_size):\n",
    "    chunked_list = [tlist[i * chunk_size:(i + 1) * chunk_size] for i in\n",
    "                    range((len(tlist) + chunk_size - 1) // chunk_size)]\n",
    "    return chunked_list"
   ]
  },
  {
   "cell_type": "code",
   "execution_count": null,
   "metadata": {},
   "outputs": [],
   "source": [
    "#| export\n",
    "async def chunk_fn(chunk, api_fun, idx, sleep_time, session, list_id):\n",
    "    print(f'sleeping {idx} and {len(chunk)}')\n",
    "\n",
    "    res = await asyncio.gather(*[api_fun(row=row, session=session, list_id=list_id) for row in chunk])\n",
    "\n",
    "    await asyncio.sleep(sleep_time)\n",
    "    print(f'end_sleep {idx}')\n",
    "    return res"
   ]
  },
  {
   "cell_type": "code",
   "execution_count": null,
   "metadata": {},
   "outputs": [],
   "source": [
    "#| export\n",
    "async def api_request_in_chunks(full_list, api_fn, api_limit_size, list_id, sleep_time=10):\n",
    "    chunked_list = chunk_list(tlist=full_list, chunk_size=api_limit_size)\n",
    "    session = aiohttp.ClientSession(request_class=OAuthRequest)\n",
    "    res = await run_sequence(\n",
    "        *[chunk_fn(chunk, api_fn, idx, sleep_time=sleep_time, session=session, list_id=list_id) for idx, chunk in\n",
    "          enumerate(chunked_list)])\n",
    "    await session.close()\n",
    "    return res"
   ]
  }
 ],
 "metadata": {
  "jupytext": {
   "split_at_heading": true
  },
  "kernelspec": {
   "display_name": "Python 3",
   "language": "python",
   "name": "python3"
  }
 },
 "nbformat": 4,
 "nbformat_minor": 4
}
