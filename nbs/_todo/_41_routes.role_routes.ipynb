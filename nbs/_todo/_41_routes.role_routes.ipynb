{
 "cells": [
  {
   "cell_type": "raw",
   "metadata": {},
   "source": [
    "---\n",
    "description: Default description (change me)\n",
    "output-file: routes.role_routes.html\n",
    "title: Default Title (change me)\n",
    "\n",
    "---\n",
    "\n"
   ]
  },
  {
   "cell_type": "code",
   "execution_count": null,
   "metadata": {},
   "outputs": [],
   "source": [
    "#| default_exp routes.role_routes"
   ]
  },
  {
   "cell_type": "code",
   "execution_count": null,
   "metadata": {},
   "outputs": [],
   "source": [
    "#| export\n",
    "import aiohttp\n",
    "\n",
    "from .get_data import get_data\n",
    "from ..DomoAuth import DomoFullAuth\n",
    "from ...utils.ResponseGetData import ResponseGetData"
   ]
  },
  {
   "cell_type": "code",
   "execution_count": null,
   "metadata": {},
   "outputs": [],
   "source": [
    "#| export\n",
    "async def get_roles(full_auth: DomoFullAuth,\n",
    "                    debug: bool = False,\n",
    "                    session: aiohttp.ClientSession = None,\n",
    "                    ) -> ResponseGetData:\n",
    "    url = f'https://{full_auth.domo_instance}.domo.com/api/authorization/v1/roles'\n",
    "\n",
    "    if debug:\n",
    "        print(url)\n",
    "\n",
    "    res = await get_data(\n",
    "        auth=full_auth,\n",
    "        url=url,\n",
    "        method='GET',\n",
    "        debug=debug,\n",
    "        session=session\n",
    "    )\n",
    "    return res"
   ]
  },
  {
   "cell_type": "code",
   "execution_count": null,
   "metadata": {},
   "outputs": [],
   "source": [
    "#| export\n",
    "async def create_role(full_auth: DomoFullAuth,\n",
    "                      name: str,\n",
    "                      description: str,\n",
    "                      debug: bool = False) -> ResponseGetData:\n",
    "    url = f'https://{full_auth.domo_instance}.domo.com/api/authorization/v1/roles'\n",
    "\n",
    "    body = {\n",
    "        'name': name,\n",
    "        'description': description\n",
    "    }\n",
    "\n",
    "    if debug:\n",
    "        print(url)\n",
    "        print({\"body\": body})\n",
    "\n",
    "    res = await get_data(\n",
    "        auth=full_auth,\n",
    "        url=url,\n",
    "        method='POST',\n",
    "        debug=debug,\n",
    "        body=body\n",
    "    )\n",
    "\n",
    "    return res"
   ]
  },
  {
   "cell_type": "code",
   "execution_count": null,
   "metadata": {},
   "outputs": [],
   "source": [
    "#| export\n",
    "async def set_default_role(full_auth: DomoFullAuth,\n",
    "                           role_id: str,\n",
    "                           debug: bool = False,\n",
    "                           session: aiohttp.ClientSession = None) -> ResponseGetData:\n",
    "    url = f'https://{full_auth.domo_instance}.domo.com/api/content/v1/customer-states/user.roleid.default'\n",
    "\n",
    "    body = {\n",
    "        'name': 'user.roleid.default',\n",
    "        'value': role_id\n",
    "    }\n",
    "\n",
    "    if debug:\n",
    "        print(url)\n",
    "        print({\"body\": body})\n",
    "\n",
    "    res = await get_data(\n",
    "        auth=full_auth,\n",
    "        url=url,\n",
    "        method='PUT',\n",
    "        debug=debug,\n",
    "        body=body,\n",
    "        session=session\n",
    "    )\n",
    "    return res"
   ]
  },
  {
   "cell_type": "code",
   "execution_count": null,
   "metadata": {},
   "outputs": [],
   "source": [
    "#| export\n",
    "async def get_role_grants(full_auth: DomoFullAuth,\n",
    "                          role_id: str,\n",
    "                          debug: bool = False) -> ResponseGetData:\n",
    "    url = f'https://{full_auth.domo_instance}.domo.com/api/authorization/v1/roles/{role_id}/authorities'\n",
    "\n",
    "    if debug:\n",
    "        print(url)\n",
    "\n",
    "    res = await get_data(\n",
    "        auth=full_auth,\n",
    "        url=url,\n",
    "        method='GET',\n",
    "        debug=debug,\n",
    "    )\n",
    "    return res"
   ]
  },
  {
   "cell_type": "code",
   "execution_count": null,
   "metadata": {},
   "outputs": [],
   "source": [
    "#| export\n",
    "async def update_role_grants(full_auth: DomoFullAuth,\n",
    "                             role_id: str,\n",
    "                             role_grant_list: list[str],\n",
    "                             debug: bool = False) -> ResponseGetData:\n",
    "    url = f'https://{full_auth.domo_instance}.domo.com/api/authorization/v1/roles/{role_id}/authorities'\n",
    "\n",
    "    if debug:\n",
    "        print(url)\n",
    "\n",
    "    res = await get_data(auth=full_auth,\n",
    "                         url=url,\n",
    "                         method='PUT',\n",
    "                         debug=debug, body=role_grant_list)\n",
    "    return res"
   ]
  },
  {
   "cell_type": "code",
   "execution_count": null,
   "metadata": {},
   "outputs": [],
   "source": [
    "#| export\n",
    "async def role_membership_add_user(full_auth: DomoFullAuth,\n",
    "                                   role_id: str,\n",
    "                                   user_list: list[str],\n",
    "                                   debug: bool = False) -> ResponseGetData:\n",
    "    url = f'https://{full_auth.domo_instance}.domo.com/api/authorization/v1/roles/{role_id}/users'\n",
    "\n",
    "    if debug:\n",
    "        print(url)\n",
    "\n",
    "    res = await get_data(\n",
    "        auth=full_auth,\n",
    "        url=url,\n",
    "        method='PUT',\n",
    "        debug=debug,\n",
    "        body=user_list\n",
    "    )\n",
    "    return res"
   ]
  },
  {
   "cell_type": "code",
   "execution_count": null,
   "metadata": {},
   "outputs": [],
   "source": [
    "#| export\n",
    "async def get_role_membership(full_auth: DomoFullAuth,\n",
    "                              role_id: str,\n",
    "                              debug: bool = False, session: aiohttp.ClientSession = None) -> ResponseGetData:\n",
    "    url = f'https://{full_auth.domo_instance}.domo.com/api/authorization/v1/roles/{role_id}/users'\n",
    "\n",
    "    if debug:\n",
    "        print(url)\n",
    "\n",
    "    res = await get_data(\n",
    "        auth=full_auth,\n",
    "        url=url,\n",
    "        method='GET',\n",
    "        debug=debug,\n",
    "        session=session\n",
    "    )\n",
    "    return res"
   ]
  }
 ],
 "metadata": {
  "jupytext": {
   "split_at_heading": true
  },
  "kernelspec": {
   "display_name": "Python 3",
   "language": "python",
   "name": "python3"
  }
 },
 "nbformat": 4,
 "nbformat_minor": 4
}
