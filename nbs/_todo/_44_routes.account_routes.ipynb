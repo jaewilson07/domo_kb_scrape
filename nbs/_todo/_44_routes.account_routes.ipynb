{
 "cells": [
  {
   "cell_type": "raw",
   "metadata": {},
   "source": [
    "---\n",
    "description: Default description (change me)\n",
    "output-file: routes.account_routes.html\n",
    "title: Default Title (change me)\n",
    "\n",
    "---\n",
    "\n"
   ]
  },
  {
   "cell_type": "code",
   "execution_count": null,
   "metadata": {},
   "outputs": [],
   "source": [
    "#| default_exp routes.account_routes"
   ]
  },
  {
   "cell_type": "code",
   "execution_count": null,
   "metadata": {},
   "outputs": [],
   "source": [
    "#| export\n",
    "import aiohttp\n",
    "\n",
    "from ...DomoClasses import DomoAuth as dmda\n",
    "from . import get_data as gd"
   ]
  },
  {
   "cell_type": "code",
   "execution_count": null,
   "metadata": {},
   "outputs": [],
   "source": [
    "#| export\n",
    "async def get_accounts(full_auth: dmda.DomoFullAuth,\n",
    "                       debug: bool = False, log_results: bool = False, session: aiohttp.ClientSession = None):\n",
    "\n",
    "    url = f\"https://{full_auth.domo_instance}.domo.com/api/data/v1/accounts\"\n",
    "\n",
    "    if debug:\n",
    "        print(url)\n",
    "\n",
    "    return await gd.get_data(\n",
    "        auth=full_auth,\n",
    "        url=url,\n",
    "        method='GET',\n",
    "        log_results=log_results,\n",
    "        debug=debug,\n",
    "        session=session\n",
    "    )"
   ]
  },
  {
   "cell_type": "code",
   "execution_count": null,
   "metadata": {},
   "outputs": [],
   "source": [
    "#| export\n",
    "async def get_account_config(full_auth: dmda.DomoFullAuth,\n",
    "                             account_id: int,\n",
    "                             data_provider_type: bool = False,\n",
    "                             debug: bool = False, log_results: bool = False, session: aiohttp.ClientSession = None):\n",
    "\n",
    "    url = f\"https://{full_auth.domo_instance}.domo.com/api/data/v1/providers/{data_provider_type}/account/{account_id}?unmask=true\"\n",
    "\n",
    "    if debug:\n",
    "        print(url)\n",
    "\n",
    "    return await gd.get_data(\n",
    "        auth=full_auth,\n",
    "        url=url,\n",
    "        method='GET',\n",
    "        log_results=log_results,\n",
    "        debug=debug,\n",
    "        session=session\n",
    "    )"
   ]
  },
  {
   "cell_type": "code",
   "execution_count": null,
   "metadata": {},
   "outputs": [],
   "source": [
    "#| export\n",
    "async def update_account_config(full_auth: dmda.DomoFullAuth,\n",
    "                                account_id: int,\n",
    "                                config_body: dict,\n",
    "                                data_provider_type: str,\n",
    "                                debug: bool = False, log_results: bool = False, session: aiohttp.ClientSession = None):\n",
    "\n",
    "    url = f\"https://{full_auth.domo_instance}.domo.com/api/data/v1/providers/{data_provider_type}/account/{account_id}\"\n",
    "\n",
    "    if debug:\n",
    "        print(url)\n",
    "\n",
    "    return await gd.get_data(\n",
    "        auth=full_auth,\n",
    "        url=url,\n",
    "        method='PUT',\n",
    "        body=config_body,\n",
    "        log_results=log_results,\n",
    "        debug=debug,\n",
    "        session=session\n",
    "    )"
   ]
  },
  {
   "cell_type": "code",
   "execution_count": null,
   "metadata": {},
   "outputs": [],
   "source": [
    "#| export\n",
    "async def update_account_name(full_auth: dmda.DomoFullAuth,\n",
    "                              account_id: int,\n",
    "                              account_name: str,\n",
    "                              debug: bool = False, log_results: bool = False, session: aiohttp.ClientSession = None):\n",
    "\n",
    "    url = f\"https://{full_auth.domo_instance}.domo.com/api/data/v1/accounts/{account_id}/name\"\n",
    "    \n",
    "    if debug:\n",
    "        print(url)\n",
    "\n",
    "    return await gd.get_data(\n",
    "        auth=full_auth,\n",
    "        url=url,\n",
    "        method='PUT',\n",
    "        body=account_name,\n",
    "        log_results=log_results,\n",
    "        content_type = \"text/plain\",\n",
    "        debug=debug,\n",
    "        session=session\n",
    "    )"
   ]
  },
  {
   "cell_type": "code",
   "execution_count": null,
   "metadata": {},
   "outputs": [],
   "source": [
    "#| export\n",
    "async def get_account_config(full_auth: dmda.DomoFullAuth,\n",
    "                             account_id: int,\n",
    "                             data_provider_type: bool = False,\n",
    "                             debug: bool = False, log_results: bool = False, session: aiohttp.ClientSession = None):\n",
    "\n",
    "    url = f\"https://{full_auth.domo_instance}.domo.com/api/data/v1/providers/{data_provider_type}/account/{account_id}?unmask=true\"\n",
    "\n",
    "    if debug:\n",
    "        print(url)\n",
    "\n",
    "    return await gd.get_data(\n",
    "        auth=full_auth,\n",
    "        url=url,\n",
    "        method='GET',\n",
    "        log_results=log_results,\n",
    "        debug=debug,\n",
    "        session=session\n",
    "    )"
   ]
  },
  {
   "cell_type": "code",
   "execution_count": null,
   "metadata": {},
   "outputs": [],
   "source": [
    "#| export\n",
    "async def get_account_from_id(full_auth: dmda.DomoFullAuth, account_id: int,\n",
    "                              debug: bool = False, log_results: bool = False, session: aiohttp.ClientSession = None):\n",
    "    url = f\"https://{full_auth.domo_instance}.domo.com/api/data/v1/accounts/{account_id}?unmask=true\"\n",
    "\n",
    "    if debug:\n",
    "        print(url)\n",
    "\n",
    "    return await gd.get_data(\n",
    "        auth=full_auth,\n",
    "        url=url,\n",
    "        method='GET',\n",
    "        log_results=log_results,\n",
    "        debug=debug,\n",
    "        session=session\n",
    "    )"
   ]
  },
  {
   "cell_type": "code",
   "execution_count": null,
   "metadata": {},
   "outputs": [],
   "source": [
    "#| export\n",
    "async def create_account(full_auth:dmda.DomoFullAuth, config_body:dict,\n",
    "                         debug: bool = False, log_results: bool = False, session: aiohttp.ClientSession = None):\n",
    "    url = f\"https://{full_auth.domo_instance}.domo.com/api/data/v1/accounts\"\n",
    "\n",
    "    if debug:\n",
    "        print(url)\n",
    "\n",
    "    return await gd.get_data(\n",
    "        auth=full_auth,\n",
    "        url=url,\n",
    "        method='POST',\n",
    "        body = config_body,\n",
    "        log_results=log_results,\n",
    "        debug=debug,\n",
    "        session=session\n",
    "    )"
   ]
  },
  {
   "cell_type": "code",
   "execution_count": null,
   "metadata": {},
   "outputs": [],
   "source": [
    "#| export\n",
    "async def delete_account(full_auth:dmda.DomoFullAuth,\n",
    "                         account_id: str,\n",
    "                         debug: bool = False, \n",
    "                         log_results: bool = False, session: aiohttp.ClientSession = None):\n",
    "    \n",
    "    url = f\"https://{full_auth.domo_instance}.domo.com/api/data/v1/accounts/{account_id}\"\n",
    "\n",
    "    if debug:\n",
    "        print(url)\n",
    "\n",
    "    return await gd.get_data(\n",
    "        auth=full_auth,\n",
    "        url=url,\n",
    "        method='DELETE',\n",
    "        log_results=log_results,\n",
    "        debug=debug,\n",
    "        session=session\n",
    "    )"
   ]
  }
 ],
 "metadata": {
  "jupytext": {
   "split_at_heading": true
  },
  "kernelspec": {
   "display_name": "Python 3",
   "language": "python",
   "name": "python3"
  }
 },
 "nbformat": 4,
 "nbformat_minor": 4
}
