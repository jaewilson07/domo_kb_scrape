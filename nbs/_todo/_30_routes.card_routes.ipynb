{
 "cells": [
  {
   "cell_type": "raw",
   "metadata": {},
   "source": [
    "---\n",
    "description: Default description (change me)\n",
    "output-file: routes.card_routes.html\n",
    "title: Default Title (change me)\n",
    "\n",
    "---\n",
    "\n"
   ]
  },
  {
   "cell_type": "code",
   "execution_count": null,
   "metadata": {},
   "outputs": [],
   "source": [
    "#| default_exp routes.card_routes"
   ]
  },
  {
   "cell_type": "code",
   "execution_count": null,
   "metadata": {},
   "outputs": [],
   "source": [
    "#| export\n",
    "from typing import List\n",
    "\n",
    "import aiohttp\n",
    "\n",
    "from ...utils.ResponseGetData import ResponseGetData\n",
    "from ..DomoAuth import DomoFullAuth\n",
    "from .get_data import get_data"
   ]
  },
  {
   "cell_type": "code",
   "execution_count": null,
   "metadata": {},
   "outputs": [],
   "source": [
    "#| export\n",
    "async def get_kpi_definition(full_auth: DomoFullAuth, card_id: str, debug: bool = False) -> ResponseGetData:\n",
    "    url = f\"https://{full_auth.domo_instance}.domo.com/api/content/v3/cards/kpi/definition\"\n",
    "\n",
    "    body = {\"urn\": card_id}\n",
    "\n",
    "    res = await get_data(\n",
    "        auth=full_auth,\n",
    "        url=url,\n",
    "        method='PUT',\n",
    "        body=body,\n",
    "        debug=False\n",
    "    )\n",
    "\n",
    "    return res"
   ]
  },
  {
   "cell_type": "code",
   "execution_count": null,
   "metadata": {},
   "outputs": [],
   "source": [
    "#| export\n",
    "async def get_card_metadata(full_auth: DomoFullAuth, card_id: str, debug: bool = False) -> ResponseGetData:\n",
    "    optional_params = \"metadata,certification,datasources,owners,problems\"\n",
    "    url = f\"https://{full_auth.domo_instance}.domo.com/api/content/v1/cards?urns={card_id}&parts={optional_params}\"\n",
    "\n",
    "    res = await get_data(\n",
    "        auth=full_auth,\n",
    "        url=url,\n",
    "        method='GET',\n",
    "        debug=False\n",
    "    )\n",
    "\n",
    "    return res"
   ]
  },
  {
   "cell_type": "code",
   "execution_count": null,
   "metadata": {},
   "outputs": [],
   "source": [
    "#| export\n",
    "def generate_body_search_cards_admin_summary(page_ids: List[str] = None,\n",
    "                                             searchPages: bool = True,\n",
    "                                             cardSearchText: str = '',\n",
    "                                             pageSearchText: str = '') -> dict:\n",
    "    body = {\n",
    "        # \"includeCardCertificationClause\": false,\n",
    "        # \"cardCertification\": [\n",
    "        #     {\n",
    "        #         \"state\": \"CERTIFIED\"\n",
    "        #     }\n",
    "        # ],\n",
    "        \"includeCardTitleClause\": True if cardSearchText else False,\n",
    "        \"includePageTitleClause\": True if pageSearchText else False,\n",
    "        \"notOnPage\": False,\n",
    "        \"ascending\": True,\n",
    "        \"orderBy\": \"cardTitle\"\n",
    "    }\n",
    "\n",
    "    if cardSearchText:\n",
    "        body.update({'cardTitleSearchText': cardSearchText})\n",
    "\n",
    "    if pageSearchText:\n",
    "        body.update({'pageTitleSearchText': pageSearchText})\n",
    "\n",
    "    if page_ids:\n",
    "        body.update({'pageIds': page_ids})\n",
    "\n",
    "    return body"
   ]
  },
  {
   "cell_type": "code",
   "execution_count": null,
   "metadata": {},
   "outputs": [],
   "source": [
    "#| export\n",
    "async def search_cards_admin_summary(full_auth: DomoFullAuth,\n",
    "                                     body: dict,\n",
    "                                     limit: int = 100,\n",
    "                                     offset: int = 0,\n",
    "                                     debug: bool = False,\n",
    "                                     log_results: bool = False\n",
    "                                     ) -> ResponseGetData:\n",
    "    url = f'https://{full_auth.domo_instance}.domo.com/api/content/v2/cards/adminsummary?skip={offset}&limit={limit}'\n",
    "\n",
    "    res = await get_data(\n",
    "        auth=full_auth,\n",
    "        url=url,\n",
    "        body=body,\n",
    "        method='POST',\n",
    "        debug=debug,\n",
    "        log_results=log_results\n",
    "    )\n",
    "\n",
    "    return res"
   ]
  }
 ],
 "metadata": {
  "jupytext": {
   "split_at_heading": true
  },
  "kernelspec": {
   "display_name": "Python 3",
   "language": "python",
   "name": "python3"
  }
 },
 "nbformat": 4,
 "nbformat_minor": 4
}
