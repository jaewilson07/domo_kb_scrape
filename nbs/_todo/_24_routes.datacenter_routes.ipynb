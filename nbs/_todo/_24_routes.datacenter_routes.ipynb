{
 "cells": [
  {
   "cell_type": "raw",
   "metadata": {},
   "source": [
    "---\n",
    "description: Default description (change me)\n",
    "output-file: routes.datacenter_routes.html\n",
    "title: Default Title (change me)\n",
    "\n",
    "---\n",
    "\n"
   ]
  },
  {
   "cell_type": "code",
   "execution_count": null,
   "metadata": {},
   "outputs": [],
   "source": [
    "#| default_exp routes.datacenter_routes"
   ]
  },
  {
   "cell_type": "code",
   "execution_count": null,
   "metadata": {},
   "outputs": [],
   "source": [
    "#| export\n",
    "import aiohttp\n",
    "from pprint import pprint\n",
    "\n",
    "from .get_data import get_data, looper\n",
    "from ..DomoAuth import DomoFullAuth\n",
    "from ...utils.ResponseGetData import ResponseGetData"
   ]
  },
  {
   "cell_type": "code",
   "execution_count": null,
   "metadata": {},
   "outputs": [],
   "source": [
    "#| export\n",
    "def generate_search_datacenter_body(entities_list: list[str] = ['DATASET'],\n",
    "                                    filters: list[dict] = None,\n",
    "                                    combineResults: bool = True,\n",
    "                                    count: int = 10,\n",
    "                                    offset: int = 0):\n",
    "    return {\n",
    "        \"entities\": entities_list,\n",
    "        \"filters\": filters or [],\n",
    "        \"combineResults\": combineResults,\n",
    "        \"query\": \"*\",\n",
    "        \"count\": count,\n",
    "        \"offset\": offset}"
   ]
  },
  {
   "cell_type": "code",
   "execution_count": null,
   "metadata": {},
   "outputs": [],
   "source": [
    "#| export\n",
    "def generate_search_datacenter_account_body( search_str : str, is_exact_match:bool = True):\n",
    "    return {\n",
    "        \"count\": 100,\n",
    "        \"offset\": 0,\n",
    "        \"combineResults\": False,\n",
    "        \"query\": search_str if is_exact_match else f\"*{search_str}*\",\n",
    "        \"filters\": [],\n",
    "        \"facetValuesToInclude\": [\n",
    "            \"DATAPROVIDERNAME\",\n",
    "            \"OWNED_BY_ID\",\n",
    "            \"VALID\",\n",
    "            \"USED\",\n",
    "            \"LAST_MODIFIED_DATE\"\n",
    "        ],\n",
    "        \"queryProfile\": \"GLOBAL\",\n",
    "        \"entityList\": [\n",
    "            [\n",
    "                \"account\"\n",
    "            ]\n",
    "        ],\n",
    "        \"sort\": {\n",
    "            \"fieldSorts\": [\n",
    "                {\n",
    "                    \"field\": \"display_name_sort\",\n",
    "                    \"sortOrder\": \"ASC\"\n",
    "                }\n",
    "            ]\n",
    "        }\n",
    "    }\n",
    "        "
   ]
  },
  {
   "cell_type": "code",
   "execution_count": null,
   "metadata": {},
   "outputs": [],
   "source": [
    "#| export\n",
    "async def search_datacenter(full_auth: DomoFullAuth,\n",
    "                            arr_fn: callable,\n",
    "                            alter_maximum_fn: callable,\n",
    "                            maximum: int = None,\n",
    "                            body: dict = None,\n",
    "                            session: aiohttp.ClientSession = None,\n",
    "                            limit=1000,\n",
    "                            debug: bool = False, log_result: bool = False) -> ResponseGetData:\n",
    "    is_close_session = False\n",
    "    if not session:\n",
    "        session = aiohttp.ClientSession()\n",
    "        is_close_session = True\n",
    "\n",
    "    if not body:\n",
    "        body = {\n",
    "            \"entities\": [\"DATASET\"],\n",
    "            \"filters\": [],\n",
    "            \"combineResults\": False,\n",
    "            \"query\": \"*\"}\n",
    "\n",
    "    url = f\"https://{full_auth.domo_instance}.domo.com/api/search/v1/query\"\n",
    "\n",
    "    if debug:\n",
    "        print(url)\n",
    "        pprint(body)\n",
    "\n",
    "    res = await looper(auth=full_auth,\n",
    "                       session=session,\n",
    "                       url=url,\n",
    "                       body=body,\n",
    "                       offset_params={\n",
    "                           'offset': 'offset',\n",
    "                           'limit': 'count'\n",
    "                       },\n",
    "                       arr_fn=arr_fn,\n",
    "                       alter_maximum_fn=alter_maximum_fn,\n",
    "                       method='POST',\n",
    "                       offset_params_in_body=True,\n",
    "                       limit=limit,\n",
    "                       maximum=maximum,\n",
    "                       debug=debug)\n",
    "\n",
    "    if is_close_session:\n",
    "        await session.close()\n",
    "\n",
    "    return res"
   ]
  },
  {
   "cell_type": "code",
   "execution_count": null,
   "metadata": {},
   "outputs": [],
   "source": [
    "#| export\n",
    "async def get_lineage_upstream(full_auth: DomoFullAuth,\n",
    "                               entity_type: str,\n",
    "                               entity_id: str,\n",
    "                               session: aiohttp.ClientSession = None,\n",
    "                               debug: bool = False):\n",
    "    url = f\"https://{full_auth.domo_instance}.domo.com/api/data/v1/lineage/{entity_type}/{entity_id}\"\n",
    "\n",
    "    params = {'traverseDown': 'false'}\n",
    "\n",
    "    return await get_data(\n",
    "        auth=full_auth,\n",
    "        method=\"GET\",\n",
    "        url=url,\n",
    "        params=params,\n",
    "        session=session,\n",
    "        debug=debug\n",
    "    )"
   ]
  }
 ],
 "metadata": {
  "jupytext": {
   "split_at_heading": true
  },
  "kernelspec": {
   "display_name": "Python 3",
   "language": "python",
   "name": "python3"
  }
 },
 "nbformat": 4,
 "nbformat_minor": 4
}
