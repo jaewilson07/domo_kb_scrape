{
 "cells": [
  {
   "cell_type": "raw",
   "metadata": {},
   "source": [
    "---\n",
    "description: Default description (change me)\n",
    "output-file: domo_github.domodataflow.html\n",
    "title: Default Title (change me)\n",
    "\n",
    "---\n",
    "\n"
   ]
  },
  {
   "cell_type": "code",
   "execution_count": null,
   "metadata": {},
   "outputs": [],
   "source": [
    "#| default_exp domo_github.DomoDataflow"
   ]
  },
  {
   "cell_type": "code",
   "execution_count": null,
   "metadata": {},
   "outputs": [],
   "source": [
    "#| export\n",
    "import aiohttp\n",
    "import asyncio\n",
    "\n",
    "import pandas as pd\n",
    "import io\n",
    "\n",
    "import json\n",
    "from dataclasses import dataclass, field\n",
    "\n",
    "from .DomoAuth import DomoDeveloperAuth, DomoFullAuth\n",
    "from .routes import dataflow_routes\n",
    "from ..utils import Exceptions as ex\n",
    "from ..utils import convert as cd\n",
    "from ..utils.Base import Base\n",
    "from ..utils.DictDot import DictDot"
   ]
  },
  {
   "cell_type": "code",
   "execution_count": null,
   "metadata": {},
   "outputs": [],
   "source": [
    "#| export\n",
    "@dataclass\n",
    "class DomoDataflow(Base):\n",
    "\n",
    "    id: str\n",
    "    name: str\n",
    "\n",
    "    full_auth: DomoFullAuth = field(repr=False, default_factory=list)\n",
    "    dev_auth: DomoDeveloperAuth = field(repr=False, default_factory=list)\n",
    "\n",
    "    owner: str = None\n",
    "    description: str = None\n",
    "    domo_instance: str = None\n",
    "    tags: list = None\n",
    "\n",
    "    @classmethod\n",
    "    async def get_from_id(cls,\n",
    "                          id: str,\n",
    "                          full_auth: DomoFullAuth = None,\n",
    "                          debug: bool = False, log_results: bool = False):\n",
    "\n",
    "        try:\n",
    "            res = await dataflow_routes.get_dataset_by_id(full_auth=full_auth,\n",
    "                                                          id=id, debug=debug)\n",
    "\n",
    "            if debug:\n",
    "                pprint(res)\n",
    "\n",
    "            # if res.status == 404:\n",
    "            #     print(\"f error retrieving get_from_id {full_auth.domo_instance} - {id} status = 404\")\n",
    "            #     raise ex.InvalidDataset(domo_instance=full_auth.domo_instance, dataset_id=id)\n",
    "\n",
    "            dd = DictDot(res.response)\n",
    "            ds = cls(\n",
    "                domo_instance=full_auth.domo_instance or dev_auth.domo_instance,\n",
    "                full_auth=full_auth,\n",
    "                id=dd.id,\n",
    "                name=dd.name,\n",
    "                description=dd.description,\n",
    "                owner=dd.owner,\n",
    "                tags=dd.tags,\n",
    "            )\n",
    "\n",
    "            return ds\n",
    "\n",
    "        except Exception as e:\n",
    "            print(e)\n",
    "            return None"
   ]
  }
 ],
 "metadata": {
  "jupytext": {
   "split_at_heading": true
  },
  "kernelspec": {
   "display_name": "Python 3",
   "language": "python",
   "name": "python3"
  }
 },
 "nbformat": 4,
 "nbformat_minor": 4
}
