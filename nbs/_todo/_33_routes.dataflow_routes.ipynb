{
 "cells": [
  {
   "cell_type": "raw",
   "metadata": {},
   "source": [
    "---\n",
    "description: Default description (change me)\n",
    "output-file: routes.dataflow_routes.html\n",
    "title: Default Title (change me)\n",
    "\n",
    "---\n",
    "\n"
   ]
  },
  {
   "cell_type": "code",
   "execution_count": null,
   "metadata": {},
   "outputs": [],
   "source": [
    "#| default_exp routes.dataflow_routes"
   ]
  },
  {
   "cell_type": "code",
   "execution_count": null,
   "metadata": {},
   "outputs": [],
   "source": [
    "#| export\n",
    "import aiohttp\n",
    "import pandas as pd\n",
    "import io\n",
    "from pprint import pprint\n",
    "\n",
    "from .get_data import get_data, looper\n",
    "from ..DomoAuth import DomoDeveloperAuth, DomoFullAuth\n",
    "from ...utils.ResponseGetData import ResponseGetData"
   ]
  },
  {
   "cell_type": "code",
   "execution_count": null,
   "metadata": {},
   "outputs": [],
   "source": [
    "#| export\n",
    "async def get_dataset_by_id(id: str,\n",
    "                            full_auth: DomoFullAuth = None,\n",
    "                            dev_auth: DomoDeveloperAuth = None,\n",
    "                            debug: bool = False, log_result: bool = False) -> ResponseGetData:\n",
    "    domo_instance = full_auth.domo_instance if full_auth else dev_auth.domo_instance\n",
    "\n",
    "    url = f'https://{domo_instance}.domo.com/api/dataprocessing/v1/dataflows/{id}'\n",
    "\n",
    "    res = await get_data(\n",
    "        auth=full_auth or dev_auth,\n",
    "        url=url,\n",
    "        method='GET',\n",
    "        debug=debug,\n",
    "    )\n",
    "\n",
    "    if log_result:\n",
    "        print(res)\n",
    "\n",
    "    return res"
   ]
  }
 ],
 "metadata": {
  "jupytext": {
   "split_at_heading": true
  },
  "kernelspec": {
   "display_name": "Python 3",
   "language": "python",
   "name": "python3"
  }
 },
 "nbformat": 4,
 "nbformat_minor": 4
}
