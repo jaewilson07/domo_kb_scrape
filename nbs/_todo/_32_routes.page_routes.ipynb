{
 "cells": [
  {
   "cell_type": "raw",
   "metadata": {},
   "source": [
    "---\n",
    "description: Default description (change me)\n",
    "output-file: routes.page_routes.html\n",
    "title: Default Title (change me)\n",
    "\n",
    "---\n",
    "\n"
   ]
  },
  {
   "cell_type": "code",
   "execution_count": null,
   "metadata": {},
   "outputs": [],
   "source": [
    "#| default_exp routes.page_routes"
   ]
  },
  {
   "cell_type": "code",
   "execution_count": null,
   "metadata": {},
   "outputs": [],
   "source": [
    "#| export\n",
    "import aiohttp\n",
    "\n",
    "from .get_data import get_data\n",
    "from ..DomoAuth import DomoFullAuth\n",
    "from ...utils.ResponseGetData import ResponseGetData"
   ]
  },
  {
   "cell_type": "code",
   "execution_count": null,
   "metadata": {},
   "outputs": [],
   "source": [
    "#| export\n",
    "async def get_page_by_id(full_auth: DomoFullAuth, page_id: str,\n",
    "                         debug: bool = False, log_result: bool = False) -> ResponseGetData:\n",
    "    url = f'https://{full_auth.domo_instance}.domo.com/api/content/v3/stacks/{page_id}/cards'\n",
    "\n",
    "    res = await get_data(\n",
    "        auth=full_auth,\n",
    "        url=url,\n",
    "        method='GET',\n",
    "        debug=debug,\n",
    "    )\n",
    "\n",
    "    if log_result:\n",
    "        print(res)\n",
    "\n",
    "    return res"
   ]
  },
  {
   "cell_type": "code",
   "execution_count": null,
   "metadata": {},
   "outputs": [],
   "source": [
    "#| export\n",
    "async def get_page_definition(full_auth, page_id, debug: bool = False, session: aiohttp.ClientSession = None):\n",
    "\n",
    "    close_session = False if session else True\n",
    "\n",
    "    if not session:\n",
    "        session = aiohttp.ClientSession()\n",
    "    try:\n",
    "        url = f\"https://{full_auth.domo_instance}.domo.com/api/content/v3/stacks/{page_id}/cards\"\n",
    "\n",
    "        params = {\"includeV4PageLayouts\": \"true\",\n",
    "                  \"parts\": \"metadata,datasources,library,drillPathURNs,certification,owners,dateInfo,subscriptions,slicers\"}\n",
    "\n",
    "        res = await get_data(url,\n",
    "                             method='GET',\n",
    "                             auth=full_auth,\n",
    "                             session=session,\n",
    "                             params=params, debug=debug)\n",
    "\n",
    "        return res\n",
    "    finally:\n",
    "        if close_session:\n",
    "            await session.close()"
   ]
  }
 ],
 "metadata": {
  "jupytext": {
   "split_at_heading": true
  },
  "kernelspec": {
   "display_name": "Python 3",
   "language": "python",
   "name": "python3"
  }
 },
 "nbformat": 4,
 "nbformat_minor": 4
}
