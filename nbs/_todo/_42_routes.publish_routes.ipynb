{
 "cells": [
  {
   "cell_type": "raw",
   "metadata": {},
   "source": [
    "---\n",
    "description: Default description (change me)\n",
    "output-file: routes.publish_routes.html\n",
    "title: Default Title (change me)\n",
    "\n",
    "---\n",
    "\n"
   ]
  },
  {
   "cell_type": "code",
   "execution_count": null,
   "metadata": {},
   "outputs": [],
   "source": [
    "#| default_exp routes.publish_routes"
   ]
  },
  {
   "cell_type": "code",
   "execution_count": null,
   "metadata": {},
   "outputs": [],
   "source": [
    "#| export\n",
    "import aiohttp\n",
    "\n",
    "import Library.DomoClasses.DomoAuth as dmda\n",
    "import Library.utils.ResponseGetData as rgd\n",
    "\n",
    "from Library.DomoClasses.routes.get_data import get_data"
   ]
  },
  {
   "cell_type": "code",
   "execution_count": null,
   "metadata": {},
   "outputs": [],
   "source": [
    "#| export\n",
    "async def search_publications(full_auth: dmda.DomoFullAuth, search_term: str = None, limit=100, offset=0, session: aiohttp.ClientSession = None, debug: bool = False) -> rgd.ResponseGetData:\n",
    "    url = f\"https://{full_auth.domo_instance}.domo.com/api/publish/v2/publication/summaries\"\n",
    "\n",
    "    params = {'limit': limit, 'offset': offset}\n",
    "\n",
    "    if search_term:\n",
    "        params.update({'searchTerm': search_term})\n",
    "\n",
    "    res = await get_data(auth=full_auth,\n",
    "                         method='GET',\n",
    "                         url=url,\n",
    "                         params=params,\n",
    "                         session=session,\n",
    "                         debug=debug)\n",
    "\n",
    "    return res"
   ]
  },
  {
   "cell_type": "code",
   "execution_count": null,
   "metadata": {},
   "outputs": [],
   "source": [
    "#| export\n",
    "async def get_publication_by_id(full_auth: dmda.DomoFullAuth, publication_id: str, session: aiohttp.ClientSession = None, debug: bool = False) -> rgd.ResponseGetData:\n",
    "    url = f\"https://{full_auth.domo_instance}.domo.com/api/publish/v2/publication/{publication_id}\"\n",
    "\n",
    "    res = await get_data(auth=full_auth,\n",
    "                         method='GET',\n",
    "                         url=url,\n",
    "                         session=session,\n",
    "                         debug=debug)\n",
    "\n",
    "    return res\n",
    "\n",
    "\n",
    "# generate publish body"
   ]
  },
  {
   "cell_type": "code",
   "execution_count": null,
   "metadata": {},
   "outputs": [],
   "source": [
    "#| export\n",
    "def generate_publish_body(url: str, sub_domain_ls: [str], content_ls: [str], name: str, description: str, unique_id: str, is_new: bool):\n",
    "    if not sub_domain_ls:\n",
    "        sub_domain_ls = []\n",
    "\n",
    "    if not content_ls:\n",
    "        content_ls = []\n",
    "\n",
    "    body = {\n",
    "        \"id\": unique_id,\n",
    "        \"name\": name,\n",
    "        \"description\": description,\n",
    "        \"domain\": url,\n",
    "        \"content\": content_ls,\n",
    "        \"subscriberDomain\": sub_domain_ls,\n",
    "        \"new\": str(is_new).lower()\n",
    "    }\n",
    "\n",
    "    return body\n",
    "\n",
    "# Creating publish job for a specific subscriber"
   ]
  },
  {
   "cell_type": "code",
   "execution_count": null,
   "metadata": {},
   "outputs": [],
   "source": [
    "#| export\n",
    "async def create_publish_job(full_auth: dmda.DomoFullAuth, body : dict, session: aiohttp.ClientSession = None, debug: bool = False) -> rgd.ResponseGetData:\n",
    "    url = f'https://{full_auth.domo_instance}.domo.com/api/publish/v2/publication'\n",
    "\n",
    "    print (body)\n",
    "    res = await get_data(auth=full_auth,\n",
    "                         method='POST',\n",
    "                         url=url,\n",
    "                         body=body,\n",
    "                         session=session,\n",
    "                         debug=debug)\n",
    "\n",
    "    return res\n",
    "\n",
    "# Updating existing publish job with content"
   ]
  },
  {
   "cell_type": "code",
   "execution_count": null,
   "metadata": {},
   "outputs": [],
   "source": [
    "#| export\n",
    "async def udpate_publish_job(full_auth: dmda.DomoFullAuth, publication_id: str, body: dict, session: aiohttp.ClientSession = None, debug: bool = False) -> rgd.ResponseGetData:\n",
    "\n",
    "    url = f'https://{full_auth.domo_instance}.domo.com/api/publish/v2/publication/{publication_id}'\n",
    "    \n",
    "    res = await get_data(auth=full_auth,\n",
    "                         method='PUT',\n",
    "                         url=url,\n",
    "                         body=body,\n",
    "                         session=session,\n",
    "                         debug=debug)\n",
    "    return res\n",
    "\n",
    "# finds all jobs waiting to be accepted within the subscriber"
   ]
  },
  {
   "cell_type": "code",
   "execution_count": null,
   "metadata": {},
   "outputs": [],
   "source": [
    "#| export\n",
    "async def get_subscription_invites_list(full_auth: dmda.DomoFullAuth, session: aiohttp.ClientSession = None, debug: bool = False) -> rgd.ResponseGetData:\n",
    "\n",
    "    url = f'https://{full_auth.domo_instance}.domo.com/api/publish/v2/subscription/invites'\n",
    "\n",
    "    res = await get_data(auth=full_auth,\n",
    "                         method='GET',\n",
    "                         url=url,\n",
    "                         session=session,\n",
    "                         debug=debug)\n",
    "    return res\n",
    "\n",
    "# this takes get_subscription_invites_list into account and accepts - not instant"
   ]
  },
  {
   "cell_type": "code",
   "execution_count": null,
   "metadata": {},
   "outputs": [],
   "source": [
    "#| export\n",
    "async def accept_invite_by_id(full_auth: dmda.DomoFullAuth, subscription_id: str, session: aiohttp.ClientSession = None, debug: bool = False) -> rgd.ResponseGetData:\n",
    "\n",
    "    url = f'https://{full_auth.domo_instance}.domo.com/api/publish/v2/subscription/{subscription_id}'\n",
    "\n",
    "    res = await get_data(auth=full_auth,\n",
    "                         method='POST',\n",
    "                         url=url,\n",
    "                         session=session,\n",
    "                         debug=debug)\n",
    "    return res\n",
    "\n",
    "\n",
    "# Refreshing list of publish jobs. Typically \"instance\" = publisher instance"
   ]
  },
  {
   "cell_type": "code",
   "execution_count": null,
   "metadata": {},
   "outputs": [],
   "source": [
    "#| export\n",
    "async def refresh_publish_jobs(full_auth: dmda.DomoFullAuth, publish_ids: list, session: aiohttp.ClientSession = None, debug: bool = False) -> rgd.ResponseGetData:\n",
    "\n",
    "    url = f'https://{full_auth.domo_instance}.domo.com/api/publish/v2/publication/refresh'\n",
    "\n",
    "    body = {\n",
    "        'publicationIds': publish_ids\n",
    "    }\n",
    "\n",
    "    res = await get_data(auth=dev_auth,\n",
    "                         method='PUT',\n",
    "                         url=url,\n",
    "                         body=body,\n",
    "                         session=session,\n",
    "                         debug=debug)\n",
    "    return res"
   ]
  }
 ],
 "metadata": {
  "jupytext": {
   "split_at_heading": true
  },
  "kernelspec": {
   "display_name": "Python 3",
   "language": "python",
   "name": "python3"
  }
 },
 "nbformat": 4,
 "nbformat_minor": 4
}
