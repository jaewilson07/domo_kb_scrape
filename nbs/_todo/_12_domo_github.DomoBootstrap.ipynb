{
 "cells": [
  {
   "cell_type": "raw",
   "metadata": {},
   "source": [
    "---\n",
    "description: Default description (change me)\n",
    "output-file: domo_github.domobootstrap.html\n",
    "title: Default Title (change me)\n",
    "\n",
    "---\n",
    "\n"
   ]
  },
  {
   "cell_type": "code",
   "execution_count": null,
   "metadata": {},
   "outputs": [],
   "source": [
    "#| default_exp domo_github.DomoBootstrap"
   ]
  },
  {
   "cell_type": "code",
   "execution_count": null,
   "metadata": {},
   "outputs": [],
   "source": [
    "#| export\n",
    "import aiohttp\n",
    "from dataclasses import dataclass\n",
    "\n",
    "from .DomoAuth import DomoFullAuth\n",
    "from .DomoDataset import DomoDataset\n",
    "from .routes import bootstrap_routes\n",
    "from ..utils.DictDot import DictDot"
   ]
  },
  {
   "cell_type": "code",
   "execution_count": null,
   "metadata": {},
   "outputs": [],
   "source": [
    "#| export\n",
    "@dataclass\n",
    "class DomoBootstrapFeature:\n",
    "    id: int\n",
    "    name: str\n",
    "    label: str\n",
    "    type: str\n",
    "    purchased: bool\n",
    "    enabled: bool\n",
    "\n",
    "    @classmethod\n",
    "    def create_from_json_bootstrap(cls, json_obj: dict):\n",
    "        dd = DictDot(json_obj)\n",
    "\n",
    "        bsf = cls(\n",
    "            id=dd.id,\n",
    "            name=dd.name,\n",
    "            label=dd.label,\n",
    "            type=dd.type,\n",
    "            purchased=dd.purchased,\n",
    "            enabled=dd.enabled\n",
    "        )\n",
    "        return bsf"
   ]
  },
  {
   "cell_type": "code",
   "execution_count": null,
   "metadata": {},
   "outputs": [],
   "source": [
    "#| export\n",
    "class DomoBootstrap:\n",
    "\n",
    "    @classmethod\n",
    "    async def get_all(cls, full_auth: DomoFullAuth, debug: bool = False):\n",
    "        return await bootstrap_routes.bsr_all(full_auth=full_auth, debug=debug)\n",
    "\n",
    "    @classmethod\n",
    "    async def get_pages(cls, full_auth: DomoFullAuth, debug: bool = False):\n",
    "        return await bootstrap_routes.bsr_pages(full_auth=full_auth, debug=debug)\n",
    "\n",
    "    @classmethod\n",
    "    async def get_features(cls, full_auth: DomoFullAuth,\n",
    "                           session: aiohttp.ClientSession, debug: bool = False):\n",
    "        json_list = await bootstrap_routes.bsr_features(full_auth=full_auth, session=session, debug=debug)\n",
    "\n",
    "        feature_list = [DomoBootstrapFeature.create_from_json_bootstrap(\n",
    "            json_obj) for json_obj in json_list]\n",
    "\n",
    "        return feature_list"
   ]
  }
 ],
 "metadata": {
  "jupytext": {
   "split_at_heading": true
  },
  "kernelspec": {
   "display_name": "Python 3",
   "language": "python",
   "name": "python3"
  }
 },
 "nbformat": 4,
 "nbformat_minor": 4
}
