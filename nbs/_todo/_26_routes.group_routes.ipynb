{
 "cells": [
  {
   "cell_type": "raw",
   "metadata": {},
   "source": [
    "---\n",
    "description: Default description (change me)\n",
    "output-file: routes.group_routes.html\n",
    "title: Default Title (change me)\n",
    "\n",
    "---\n",
    "\n"
   ]
  },
  {
   "cell_type": "code",
   "execution_count": null,
   "metadata": {},
   "outputs": [],
   "source": [
    "#| default_exp routes.group_routes"
   ]
  },
  {
   "cell_type": "code",
   "execution_count": null,
   "metadata": {},
   "outputs": [],
   "source": [
    "#| export\n",
    "import aiohttp\n",
    "from .get_data import get_data\n",
    "from ..DomoAuth import DomoFullAuth\n",
    "from ...utils.ResponseGetData import ResponseGetData"
   ]
  },
  {
   "cell_type": "code",
   "execution_count": null,
   "metadata": {},
   "outputs": [],
   "source": [
    "#| export\n",
    "def generate_body_create_group(group_name: str,\n",
    "                               group_type: str,\n",
    "                               description: str) -> dict:\n",
    "    body = {\"name\": group_name, \"type\": group_type or 'open',\n",
    "            \"description\": description or ''}\n",
    "\n",
    "    return body"
   ]
  },
  {
   "cell_type": "code",
   "execution_count": null,
   "metadata": {},
   "outputs": [],
   "source": [
    "#| export\n",
    "async def create_group(full_auth: DomoFullAuth,\n",
    "                       group_name: str = None,\n",
    "                       group_type: str = None,\n",
    "                       description: str = None,\n",
    "                       log_results: bool = False, debug: bool = False) -> ResponseGetData:\n",
    "    # body : {\"name\": \"GROUP_NAME\", \"type\": \"open\", \"description\": \"\"}\n",
    "\n",
    "    body = generate_body_create_group(\n",
    "        group_name=group_name, group_type=group_type, description=description)\n",
    "    print({'create_group_body': body})\n",
    "\n",
    "    url = f'https://{full_auth.domo_instance}.domo.com/api/content/v2/groups/'\n",
    "\n",
    "    if log_results:\n",
    "        print(f'Creating Group: {body.get(\"name\")}- at {url}')\n",
    "\n",
    "    res = await get_data(\n",
    "        auth=full_auth,\n",
    "        url=url,\n",
    "        method='POST',\n",
    "        body=body,\n",
    "        debug=debug\n",
    "    )\n",
    "\n",
    "    return res"
   ]
  },
  {
   "cell_type": "code",
   "execution_count": null,
   "metadata": {},
   "outputs": [],
   "source": [
    "#| export\n",
    "async def get_all_groups(full_auth: DomoFullAuth,\n",
    "                         log_results: bool = False,\n",
    "                         debug: bool = False,\n",
    "                         session: aiohttp.ClientSession = None) -> ResponseGetData:\n",
    "    if debug:\n",
    "        print(full_auth)\n",
    "\n",
    "    url = f'https://{full_auth.domo_instance}.domo.com/api/content/v2/groups/grouplist'\n",
    "\n",
    "    if debug:\n",
    "        print(full_auth, url)\n",
    "\n",
    "    if log_results:\n",
    "        print(f'Getting groups from - {url}')\n",
    "\n",
    "    res = await get_data(url=url, method='GET', auth=full_auth, session=session)\n",
    "\n",
    "    return res"
   ]
  },
  {
   "cell_type": "code",
   "execution_count": null,
   "metadata": {},
   "outputs": [],
   "source": [
    "#| export\n",
    "async def search_groups_by_name(full_auth: DomoFullAuth,\n",
    "                                search_name: str,\n",
    "                                debug: bool = False, log_results: bool = False) -> ResponseGetData:\n",
    "    url = f'https://{full_auth.domo_instance}.domo.com/api/content/v2/groups/grouplist?ascending=true&search={search_name}&sort=name '\n",
    "\n",
    "    res = await get_data(\n",
    "        auth=full_auth,\n",
    "        url=url,\n",
    "        method='GET',\n",
    "        debug=debug,\n",
    "        log_results=log_results\n",
    "    )\n",
    "    return res"
   ]
  },
  {
   "cell_type": "code",
   "execution_count": null,
   "metadata": {},
   "outputs": [],
   "source": [
    "#| export\n",
    "def generate_body_update_group_membership(group_id: str,\n",
    "                                          add_user_arr: list[str] = None,\n",
    "                                          remove_user_arr: list[str] = None,\n",
    "                                          add_owner_user_arr: list[str] = None,\n",
    "                                          remove_owner_user_arr: list[str] = None) -> list[dict]:\n",
    "    body = {\"groupId\": int(group_id)}\n",
    "    if add_owner_user_arr:\n",
    "        body.update({\"addOwners\": [{\"type\": \"USER\", \"id\": str(\n",
    "            userId)} for userId in add_owner_user_arr]})\n",
    "\n",
    "    if remove_owner_user_arr:\n",
    "        body.update({\"removeOwners\": [{\"type\": \"USER\", \"id\": str(\n",
    "            userId)} for userId in remove_owner_user_arr]})\n",
    "\n",
    "    if remove_user_arr:\n",
    "        body.update({\"removeMembers\": [\n",
    "                    {\"type\": \"USER\", \"id\": str(userId)} for userId in remove_user_arr]})\n",
    "    if add_user_arr:\n",
    "        body.update(\n",
    "            {\"addMembers\": [{\"type\": \"USER\", \"id\": str(userId)} for userId in add_user_arr]})\n",
    "\n",
    "    return [body]"
   ]
  },
  {
   "cell_type": "code",
   "execution_count": null,
   "metadata": {},
   "outputs": [],
   "source": [
    "#| export\n",
    "async def update_group_membership(full_auth: DomoFullAuth,\n",
    "                                  body: dict,\n",
    "                                  log_results: bool = False, debug: bool = False) -> ResponseGetData:\n",
    "    # body = [{\n",
    "    #     \"groupId\":\"GROUP_ID\",\n",
    "    #     \"removeMembers\": [{\"type\":\"USER\",\"id\":\"USER_ID\"}],\n",
    "    #     \"addMembers\"   : [{\"type\":\"USER\",\"id\":\"USER_ID\"}]\n",
    "    # }]\n",
    "\n",
    "    url = f'https://{full_auth.domo_instance}.domo.com/api/content/v2/groups/access'\n",
    "\n",
    "    if debug:\n",
    "        print(url, body)\n",
    "\n",
    "    res = await get_data(\n",
    "        auth=full_auth,\n",
    "        url=url,\n",
    "        method='PUT',\n",
    "        body=body,\n",
    "        debug=debug\n",
    "    )\n",
    "\n",
    "    return res"
   ]
  },
  {
   "cell_type": "code",
   "execution_count": null,
   "metadata": {},
   "outputs": [],
   "source": [
    "#| export\n",
    "async def get_group_by_id(full_auth:DomoFullAuth, group_id:id, debug:bool = False) -> ResponseGetData:\n",
    "    url = f'https://{full_auth.domo_instance}.domo.com/api/content/v2/groups/{group_id}'\n",
    "\n",
    "    if debug:\n",
    "        print(url)\n",
    "\n",
    "    res = await get_data(\n",
    "        auth=full_auth,\n",
    "        url=url,\n",
    "        method='GET',\n",
    "        debug=debug\n",
    "    )\n",
    "\n",
    "    return res"
   ]
  }
 ],
 "metadata": {
  "jupytext": {
   "split_at_heading": true
  },
  "kernelspec": {
   "display_name": "Python 3",
   "language": "python",
   "name": "python3"
  }
 },
 "nbformat": 4,
 "nbformat_minor": 4
}
