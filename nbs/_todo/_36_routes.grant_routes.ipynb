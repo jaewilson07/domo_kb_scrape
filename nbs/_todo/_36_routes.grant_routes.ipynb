{
 "cells": [
  {
   "cell_type": "raw",
   "metadata": {},
   "source": [
    "---\n",
    "description: Default description (change me)\n",
    "output-file: routes.grant_routes.html\n",
    "title: Default Title (change me)\n",
    "\n",
    "---\n",
    "\n"
   ]
  },
  {
   "cell_type": "code",
   "execution_count": null,
   "metadata": {},
   "outputs": [],
   "source": [
    "#| default_exp routes.grant_routes"
   ]
  },
  {
   "cell_type": "code",
   "execution_count": null,
   "metadata": {},
   "outputs": [],
   "source": [
    "#| export\n",
    "import aiohttp\n",
    "from pprint import pprint\n",
    "\n",
    "from .get_data import get_data\n",
    "from ..DomoAuth import DomoFullAuth\n",
    "from ...utils.ResponseGetData import ResponseGetData"
   ]
  },
  {
   "cell_type": "code",
   "execution_count": null,
   "metadata": {},
   "outputs": [],
   "source": [
    "#| export\n",
    "async def get_grants(full_auth: DomoFullAuth,\n",
    "                     debug: bool = False, log_results: bool = False,\n",
    "                     session: aiohttp.ClientSession = None):\n",
    "    try:\n",
    "        is_close_session = False\n",
    "\n",
    "        if not session:\n",
    "            session = aiohttp.ClientSession()\n",
    "            is_close_session = True\n",
    "\n",
    "        url = f'https://{full_auth.domo_instance}.domo.com/api/authorization/v1/authorities'\n",
    "\n",
    "        if debug:\n",
    "            print(url)\n",
    "\n",
    "        return await get_data(auth=full_auth,\n",
    "                              url=url,\n",
    "                              method='GET',\n",
    "                              log_results=log_results,\n",
    "                              debug=debug,\n",
    "                              session=session)\n",
    "\n",
    "    finally:\n",
    "        if is_close_session:\n",
    "            await session.close()"
   ]
  }
 ],
 "metadata": {
  "jupytext": {
   "split_at_heading": true
  },
  "kernelspec": {
   "display_name": "Python 3",
   "language": "python",
   "name": "python3"
  }
 },
 "nbformat": 4,
 "nbformat_minor": 4
}
