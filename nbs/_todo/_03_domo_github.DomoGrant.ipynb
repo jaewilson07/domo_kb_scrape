{
 "cells": [
  {
   "cell_type": "raw",
   "metadata": {},
   "source": [
    "---\n",
    "description: Default description (change me)\n",
    "output-file: domo_github.domogrant.html\n",
    "title: Default Title (change me)\n",
    "\n",
    "---\n",
    "\n"
   ]
  },
  {
   "cell_type": "code",
   "execution_count": null,
   "metadata": {},
   "outputs": [],
   "source": [
    "#| default_exp domo_github.DomoGrant"
   ]
  },
  {
   "cell_type": "code",
   "execution_count": null,
   "metadata": {},
   "outputs": [],
   "source": [
    "#| export\n",
    "from dataclasses import dataclass, field\n",
    "\n",
    "from Library.utils.DictDot import DictDot\n",
    "from Library.DomoClasses.DomoAuth import DomoFullAuth\n",
    "from Library.DomoClasses.routes import grant_routes"
   ]
  },
  {
   "cell_type": "code",
   "execution_count": null,
   "metadata": {},
   "outputs": [],
   "source": [
    "#| export\n",
    "@dataclass\n",
    "class DomoGrant:\n",
    "    id: str\n",
    "    display_group: str\n",
    "    depends_on: [str]\n",
    "    title: str\n",
    "    description: str = None\n",
    "    role_membership: [str] = None\n",
    "\n",
    "    @classmethod\n",
    "    def _from_json(cls, obj):\n",
    "        dd = DictDot(obj)\n",
    "\n",
    "        return cls(id=dd.authority,\n",
    "                   display_group=dd.authorityUIGroup,\n",
    "                   depends_on=dd.dependsOnAuthorities,\n",
    "                   title=dd.title,\n",
    "                   description=dd.description,\n",
    "                   role_membership=[str(role) for role in dd.roleIds])"
   ]
  }
 ],
 "metadata": {
  "jupytext": {
   "split_at_heading": true
  },
  "kernelspec": {
   "display_name": "Python 3",
   "language": "python",
   "name": "python3"
  }
 },
 "nbformat": 4,
 "nbformat_minor": 4
}
